{
 "cells": [
  {
   "cell_type": "code",
   "execution_count": 1,
   "id": "55329f5f-f5f1-4f2b-a992-63b347928eb0",
   "metadata": {},
   "outputs": [],
   "source": [
    "import pandas as pd\n",
    "import numpy as np\n",
    "from sklearn.model_selection import train_test_split\n",
    "from sklearn.feature_extraction.text import CountVectorizer, TfidfVectorizer\n",
    "from sklearn.linear_model import LogisticRegression\n",
    "from sklearn.naive_bayes import MultinomialNB\n",
    "from sklearn.tree import DecisionTreeClassifier\n",
    "from sklearn.ensemble import RandomForestClassifier\n",
    "from sklearn.svm import SVC\n",
    "from sklearn.metrics import accuracy_score, precision_score, recall_score, f1_score, classification_report\n",
    "\n",
    "import nltk\n",
    "from nltk.corpus import stopwords\n",
    "from nltk.tokenize import word_tokenize\n",
    "from nltk.stem import PorterStemmer\n",
    "from Sastrawi.Stemmer.StemmerFactory import StemmerFactory\n",
    "import re"
   ]
  },
  {
   "cell_type": "code",
   "execution_count": 3,
   "id": "ca4ddc48-16b2-4213-9a02-66ae9738697d",
   "metadata": {},
   "outputs": [],
   "source": [
    "# Preprocessing function (IMDB - English)\n",
    "def preprocess_text_english(text):\n",
    "    # Lowercase text\n",
    "    text = text.lower()\n",
    "    # Remove non-alphabetical characters\n",
    "    text = re.sub(r'[^a-z\\s]', '', text)\n",
    "    # Tokenize\n",
    "    tokens = word_tokenize(text)\n",
    "    # Remove stopwords\n",
    "    stop_words = set(stopwords.words('indonesian'))\n",
    "    tokens = [word for word in tokens if word not in stop_words]\n",
    "    # Stemming\n",
    "    ps = PorterStemmer()\n",
    "    tokens = [ps.stem(word) for word in tokens]\n",
    "    return ' '.join(tokens)"
   ]
  },
  {
   "cell_type": "code",
   "execution_count": 7,
   "id": "67fefe05-e95a-4ff2-9b09-2cd287a64115",
   "metadata": {},
   "outputs": [],
   "source": [
    "indonesia_data = pd.read_csv('reviews.csv')\n",
    "# Preprocessing Indonesian dataset\n",
    "indonesia_data['cleaned_review'] = indonesia_data['reviews'].apply(preprocess_text_english)"
   ]
  },
  {
   "cell_type": "code",
   "execution_count": 47,
   "id": "65afccd8-b301-410b-afe3-4d5e39e2660c",
   "metadata": {},
   "outputs": [
    {
     "data": {
      "text/html": [
       "<div>\n",
       "<style scoped>\n",
       "    .dataframe tbody tr th:only-of-type {\n",
       "        vertical-align: middle;\n",
       "    }\n",
       "\n",
       "    .dataframe tbody tr th {\n",
       "        vertical-align: top;\n",
       "    }\n",
       "\n",
       "    .dataframe thead th {\n",
       "        text-align: right;\n",
       "    }\n",
       "</style>\n",
       "<table border=\"1\" class=\"dataframe\">\n",
       "  <thead>\n",
       "    <tr style=\"text-align: right;\">\n",
       "      <th></th>\n",
       "      <th>reviews</th>\n",
       "      <th>label</th>\n",
       "      <th>cleaned_review</th>\n",
       "    </tr>\n",
       "  </thead>\n",
       "  <tbody>\n",
       "    <tr>\n",
       "      <th>0</th>\n",
       "      <td>kemeja nya bagusss bgtttt😍😍😍aaaa mauuu nngisss...</td>\n",
       "      <td>1.0</td>\n",
       "      <td>kemeja nya bagusss bgttttaaaa mauuu nngisssssk...</td>\n",
       "    </tr>\n",
       "    <tr>\n",
       "      <th>1</th>\n",
       "      <td>Jahitannya sih rapi,cuman ada benang yang ikut...</td>\n",
       "      <td>0.0</td>\n",
       "      <td>jahitannya sih rapicuman benang jahit jelek</td>\n",
       "    </tr>\n",
       "    <tr>\n",
       "      <th>2</th>\n",
       "      <td>Sesuai harga. Agak tipis tapi masih oke kok. W...</td>\n",
       "      <td>0.0</td>\n",
       "      <td>sesuai harga tipi oke warnanya abu kalo difoto...</td>\n",
       "    </tr>\n",
       "    <tr>\n",
       "      <th>3</th>\n",
       "      <td>Wah gila sihhh sebagus itu, se worth it, se  l...</td>\n",
       "      <td>1.0</td>\n",
       "      <td>gila sihhh sebagu worth it lembut bajunya kira...</td>\n",
       "    </tr>\n",
       "    <tr>\n",
       "      <th>4</th>\n",
       "      <td>Kain nya bagus halus  \\nTapi kok di bukak koto...</td>\n",
       "      <td>0.0</td>\n",
       "      <td>kain nya bagu halu bukak kotor ya warna putih</td>\n",
       "    </tr>\n",
       "    <tr>\n",
       "      <th>...</th>\n",
       "      <td>...</td>\n",
       "      <td>...</td>\n",
       "      <td>...</td>\n",
       "    </tr>\n",
       "    <tr>\n",
       "      <th>826</th>\n",
       "      <td>Terima kasih barang sudah sampai sesuai ukuran...</td>\n",
       "      <td>1.0</td>\n",
       "      <td>terima kasih barang sesuai ukuran seesuai gamb...</td>\n",
       "    </tr>\n",
       "    <tr>\n",
       "      <th>827</th>\n",
       "      <td>Mantapp realpicttt bangttt tapi pengemasan nya...</td>\n",
       "      <td>1.0</td>\n",
       "      <td>mantapp realpicttt bangttt pengemasan nya cuma...</td>\n",
       "    </tr>\n",
       "    <tr>\n",
       "      <th>828</th>\n",
       "      <td>Suka bgt sama tasnya, ga kayak tas local. Kere...</td>\n",
       "      <td>1.0</td>\n",
       "      <td>suka bgt tasnya ga kayak ta local keren parah ...</td>\n",
       "    </tr>\n",
       "    <tr>\n",
       "      <th>829</th>\n",
       "      <td>kualitas produk sangat baik. produk original. ...</td>\n",
       "      <td>1.0</td>\n",
       "      <td>kualita produk produk origin harga produk</td>\n",
       "    </tr>\n",
       "    <tr>\n",
       "      <th>830</th>\n",
       "      <td>Barang udah sampai dg selamat, mantul banget d...</td>\n",
       "      <td>1.0</td>\n",
       "      <td>barang udah dg selamat mantul banget dah bajun...</td>\n",
       "    </tr>\n",
       "  </tbody>\n",
       "</table>\n",
       "<p>831 rows × 3 columns</p>\n",
       "</div>"
      ],
      "text/plain": [
       "                                               reviews  label  \\\n",
       "0    kemeja nya bagusss bgtttt😍😍😍aaaa mauuu nngisss...    1.0   \n",
       "1    Jahitannya sih rapi,cuman ada benang yang ikut...    0.0   \n",
       "2    Sesuai harga. Agak tipis tapi masih oke kok. W...    0.0   \n",
       "3    Wah gila sihhh sebagus itu, se worth it, se  l...    1.0   \n",
       "4    Kain nya bagus halus  \\nTapi kok di bukak koto...    0.0   \n",
       "..                                                 ...    ...   \n",
       "826  Terima kasih barang sudah sampai sesuai ukuran...    1.0   \n",
       "827  Mantapp realpicttt bangttt tapi pengemasan nya...    1.0   \n",
       "828  Suka bgt sama tasnya, ga kayak tas local. Kere...    1.0   \n",
       "829  kualitas produk sangat baik. produk original. ...    1.0   \n",
       "830  Barang udah sampai dg selamat, mantul banget d...    1.0   \n",
       "\n",
       "                                        cleaned_review  \n",
       "0    kemeja nya bagusss bgttttaaaa mauuu nngisssssk...  \n",
       "1          jahitannya sih rapicuman benang jahit jelek  \n",
       "2    sesuai harga tipi oke warnanya abu kalo difoto...  \n",
       "3    gila sihhh sebagu worth it lembut bajunya kira...  \n",
       "4        kain nya bagu halu bukak kotor ya warna putih  \n",
       "..                                                 ...  \n",
       "826  terima kasih barang sesuai ukuran seesuai gamb...  \n",
       "827  mantapp realpicttt bangttt pengemasan nya cuma...  \n",
       "828  suka bgt tasnya ga kayak ta local keren parah ...  \n",
       "829          kualita produk produk origin harga produk  \n",
       "830  barang udah dg selamat mantul banget dah bajun...  \n",
       "\n",
       "[831 rows x 3 columns]"
      ]
     },
     "execution_count": 47,
     "metadata": {},
     "output_type": "execute_result"
    }
   ],
   "source": [
    "indonesia_data"
   ]
  },
  {
   "cell_type": "code",
   "execution_count": 9,
   "id": "530dc529-b0cd-4c03-9b05-6af12546e21d",
   "metadata": {},
   "outputs": [
    {
     "name": "stdout",
     "output_type": "stream",
     "text": [
      "\n",
      "Indonesian Cleaned Reviews:\n",
      "                                             reviews  \\\n",
      "0  kemeja nya bagusss bgtttt😍😍😍aaaa mauuu nngisss...   \n",
      "1  Jahitannya sih rapi,cuman ada benang yang ikut...   \n",
      "2  Sesuai harga. Agak tipis tapi masih oke kok. W...   \n",
      "3  Wah gila sihhh sebagus itu, se worth it, se  l...   \n",
      "4  Kain nya bagus halus  \\nTapi kok di bukak koto...   \n",
      "\n",
      "                                      cleaned_review  \n",
      "0  kemeja nya bagusss bgttttaaaa mauuu nngisssssk...  \n",
      "1        jahitannya sih rapicuman benang jahit jelek  \n",
      "2  sesuai harga tipi oke warnanya abu kalo difoto...  \n",
      "3  gila sihhh sebagu worth it lembut bajunya kira...  \n",
      "4      kain nya bagu halu bukak kotor ya warna putih  \n"
     ]
    }
   ],
   "source": [
    "# Menampilkan beberapa baris pertama dari cleaned_review pada dataset Indonesia\n",
    "print(\"\\nIndonesian Cleaned Reviews:\")\n",
    "print(indonesia_data[['reviews', 'cleaned_review']].head())"
   ]
  },
  {
   "cell_type": "code",
   "execution_count": 19,
   "id": "7d14e82b-82bc-460f-949c-1fdc0dca691a",
   "metadata": {},
   "outputs": [
    {
     "name": "stdout",
     "output_type": "stream",
     "text": [
      "\n",
      "TF-IDF Vectorization (Indonesian Reviews):\n",
      "[[0. 0. 0. ... 0. 0. 0.]\n",
      " [0. 0. 0. ... 0. 0. 0.]\n",
      " [0. 0. 0. ... 0. 0. 0.]\n",
      " ...\n",
      " [0. 0. 0. ... 0. 0. 0.]\n",
      " [0. 0. 0. ... 0. 0. 0.]\n",
      " [0. 0. 0. ... 0. 0. 0.]]\n",
      "\n",
      "Shape of Indonesian TF-IDF matrix: (831, 2690)\n"
     ]
    }
   ],
   "source": [
    "# Vectorization: TF-IDF Vectorizer for both datasets\n",
    "tfidf_vectorizer = TfidfVectorizer()\n",
    "\n",
    "# Indonesian dataset vectorization\n",
    "X = tfidf_vectorizer.fit_transform(indonesia_data['cleaned_review'])\n",
    "y = indonesia_data['label']  # Assume sentiment is labeled as 'positive' or 'negative'\n",
    "\n",
    "# Menampilkan hasil vektorisasi dari dataset Indonesian\n",
    "print(\"\\nTF-IDF Vectorization (Indonesian Reviews):\")\n",
    "print(X.toarray())  # Mengubah sparse matrix menjadi array agar bisa dilihat hasilnya\n",
    "print(\"\\nShape of Indonesian TF-IDF matrix:\", X.shape)  # Menampilkan ukuran matrix (jumlah dokumen, jumlah fitur)"
   ]
  },
  {
   "cell_type": "code",
   "execution_count": 21,
   "id": "d47349ea-85ea-4214-8a77-fa4452d7c7ab",
   "metadata": {},
   "outputs": [
    {
     "name": "stdout",
     "output_type": "stream",
     "text": [
      "Train shape: (623, 2690), Test shape: (208, 2690)\n"
     ]
    }
   ],
   "source": [
    "from sklearn.model_selection import train_test_split\n",
    "\n",
    "# Memisahkan fitur dan label\n",
    "y = indonesia_data['label']\n",
    "\n",
    "X_train, X_test, y_train, y_test = train_test_split(X, y, test_size=0.25, random_state=42)\n",
    "\n",
    "print(f'Train shape: {X_train.shape}, Test shape: {X_test.shape}')"
   ]
  },
  {
   "cell_type": "code",
   "execution_count": 45,
   "id": "372929ff-b4bc-4fcc-9f55-a0c469565af9",
   "metadata": {},
   "outputs": [
    {
     "name": "stdout",
     "output_type": "stream",
     "text": [
      "Akurasi Logistic Regression : 0.9038461538461539\n",
      "              precision    recall  f1-score   support\n",
      "\n",
      "    negative       0.82      0.99      0.90       108\n",
      "    positive       0.99      0.77      0.87       100\n",
      "\n",
      "    accuracy                           0.88       208\n",
      "   macro avg       0.91      0.88      0.88       208\n",
      "weighted avg       0.90      0.88      0.88       208\n",
      "\n"
     ]
    }
   ],
   "source": [
    "from sklearn.linear_model import LogisticRegression\n",
    "from sklearn.metrics import accuracy_score, classification_report\n",
    "\n",
    "logreg_model = LogisticRegression()  # Inisialisasi model Logistic Regression\n",
    "logreg_model.fit(X_train, y_train)  # Latih model dengan data pelatihan\n",
    "\n",
    "y_pred_logreg = logreg_model.predict(X_test)  # Prediksi data uji\n",
    "\n",
    "# Create a mapping for labels\n",
    "label_mapping = {0.0: 'negative', 1.0: 'positive'}\n",
    "\n",
    "# Update y_test and y_pred to use string labels\n",
    "y_test_mapped = [label_mapping[label] for label in y_test]\n",
    "y_pred_mapped = [label_mapping[label] for label in y_pred_logreg]\n",
    "\n",
    "# Tampilkan hasil evaluasi\n",
    "print(\"Akurasi Logistic Regression :\", accuracy_score(y_test, y_pred_nb))\n",
    "print(classification_report(y_test, y_pred_logreg, target_names=[\"negative\", \"positive\"]))"
   ]
  },
  {
   "cell_type": "code",
   "execution_count": 37,
   "id": "216c85b6-e673-43cc-b01e-2069510c0af9",
   "metadata": {},
   "outputs": [
    {
     "name": "stdout",
     "output_type": "stream",
     "text": [
      "Akurasi Naive Bayes: 0.9038461538461539\n",
      "              precision    recall  f1-score   support\n",
      "\n",
      "    negative       0.87      0.96      0.91       108\n",
      "    positive       0.95      0.84      0.89       100\n",
      "\n",
      "    accuracy                           0.90       208\n",
      "   macro avg       0.91      0.90      0.90       208\n",
      "weighted avg       0.91      0.90      0.90       208\n",
      "\n"
     ]
    }
   ],
   "source": [
    "from sklearn.naive_bayes import MultinomialNB\n",
    "\n",
    "# Inisialisasi model Naive Bayes\n",
    "nb_model = MultinomialNB()\n",
    "nb_model.fit(X_train, y_train)  # Latih model dengan data pelatihan\n",
    "\n",
    "y_pred_nb = nb_model.predict(X_test)  # Prediksi data uji\n",
    "\n",
    "# Create a mapping for labels\n",
    "label_mapping = {0.0: 'negative', 1.0: 'positive'}\n",
    "\n",
    "# Update y_test and y_pred to use string labels\n",
    "y_test_mapped_nb = [label_mapping[label] for label in y_test]\n",
    "y_pred_mapped_nb = [label_mapping[label] for label in y_pred_nb]\n",
    "\n",
    "# Tampilkan hasil evaluasi\n",
    "print(\"Akurasi Naive Bayes:\", accuracy_score(y_test_mapped_nb, y_pred_mapped_nb))\n",
    "print(classification_report(y_test_mapped_nb, y_pred_mapped_nb, target_names=[\"negative\", \"positive\"]))"
   ]
  },
  {
   "cell_type": "code",
   "execution_count": 39,
   "id": "f300554b-11f1-485f-bab5-862a37462543",
   "metadata": {},
   "outputs": [
    {
     "name": "stdout",
     "output_type": "stream",
     "text": [
      "Akurasi Decision Tree: 0.7788461538461539\n",
      "              precision    recall  f1-score   support\n",
      "\n",
      "    negative       0.76      0.84      0.80       108\n",
      "    positive       0.81      0.71      0.76       100\n",
      "\n",
      "    accuracy                           0.78       208\n",
      "   macro avg       0.78      0.78      0.78       208\n",
      "weighted avg       0.78      0.78      0.78       208\n",
      "\n"
     ]
    }
   ],
   "source": [
    "from sklearn.tree import DecisionTreeClassifier\n",
    "\n",
    "# Inisialisasi model Decision Tree\n",
    "dt_model = DecisionTreeClassifier()\n",
    "dt_model.fit(X_train, y_train)  # Latih model dengan data pelatihan\n",
    "\n",
    "y_pred_dt = dt_model.predict(X_test)  # Prediksi data uji\n",
    "\n",
    "# Create a mapping for labels\n",
    "label_mapping = {0.0: 'negative', 1.0: 'positive'}\n",
    "\n",
    "# Update y_test and y_pred to use string labels\n",
    "y_test_mapped_dt = [label_mapping[label] for label in y_test]\n",
    "y_pred_mapped_dt = [label_mapping[label] for label in y_pred_dt]\n",
    "\n",
    "# Tampilkan hasil evaluasi\n",
    "print(\"Akurasi Decision Tree:\", accuracy_score(y_test_mapped_dt, y_pred_mapped_dt))\n",
    "print(classification_report(y_test_mapped_dt, y_pred_mapped_dt, target_names=[\"negative\", \"positive\"]))\n"
   ]
  },
  {
   "cell_type": "code",
   "execution_count": 41,
   "id": "f2c4b751-3df2-45cf-abf4-9bc44f81e3fa",
   "metadata": {},
   "outputs": [
    {
     "name": "stdout",
     "output_type": "stream",
     "text": [
      "Akurasi Random Forest: 0.8557692307692307\n",
      "              precision    recall  f1-score   support\n",
      "\n",
      "    negative       0.80      0.95      0.87       108\n",
      "    positive       0.94      0.75      0.83       100\n",
      "\n",
      "    accuracy                           0.86       208\n",
      "   macro avg       0.87      0.85      0.85       208\n",
      "weighted avg       0.87      0.86      0.85       208\n",
      "\n"
     ]
    }
   ],
   "source": [
    "from sklearn.ensemble import RandomForestClassifier\n",
    "\n",
    "# Inisialisasi model Random Forest\n",
    "rf_model = RandomForestClassifier()\n",
    "rf_model.fit(X_train, y_train)  # Latih model dengan data pelatihan\n",
    "\n",
    "y_pred_rf = rf_model.predict(X_test)  # Prediksi data uji\n",
    "\n",
    "# Create a mapping for labels\n",
    "label_mapping = {0.0: 'negative', 1.0: 'positive'}\n",
    "\n",
    "# Update y_test and y_pred to use string labels\n",
    "y_test_mapped_rf = [label_mapping[label] for label in y_test]\n",
    "y_pred_mapped_rf = [label_mapping[label] for label in y_pred_rf]\n",
    "\n",
    "# Tampilkan hasil evaluasi\n",
    "print(\"Akurasi Random Forest:\", accuracy_score(y_test_mapped_rf, y_pred_mapped_rf))\n",
    "print(classification_report(y_test_mapped_rf, y_pred_mapped_rf, target_names=[\"negative\", \"positive\"]))"
   ]
  },
  {
   "cell_type": "code",
   "execution_count": 43,
   "id": "e3121525-736e-46bf-b550-93a15b91f2c2",
   "metadata": {},
   "outputs": [
    {
     "name": "stdout",
     "output_type": "stream",
     "text": [
      "Akurasi SVM: 0.8798076923076923\n",
      "              precision    recall  f1-score   support\n",
      "\n",
      "    negative       0.82      0.99      0.90       108\n",
      "    positive       0.99      0.76      0.86       100\n",
      "\n",
      "    accuracy                           0.88       208\n",
      "   macro avg       0.90      0.88      0.88       208\n",
      "weighted avg       0.90      0.88      0.88       208\n",
      "\n"
     ]
    }
   ],
   "source": [
    "from sklearn.svm import SVC\n",
    "\n",
    "# Inisialisasi model SVM\n",
    "svm_model = SVC()\n",
    "svm_model.fit(X_train, y_train)  # Latih model dengan data pelatihan\n",
    "\n",
    "y_pred_svm = svm_model.predict(X_test)  # Prediksi data uji\n",
    "\n",
    "# Create a mapping for labels\n",
    "label_mapping = {0.0: 'negative', 1.0: 'positive'}\n",
    "\n",
    "# Update y_test and y_pred to use string labels\n",
    "y_test_mapped_svm = [label_mapping[label] for label in y_test]\n",
    "y_pred_mapped_svm = [label_mapping[label] for label in y_pred_svm]\n",
    "\n",
    "# Tampilkan hasil evaluasi\n",
    "print(\"Akurasi SVM:\", accuracy_score(y_test_mapped_svm, y_pred_mapped_svm))\n",
    "print(classification_report(y_test_mapped_svm, y_pred_mapped_svm, target_names=[\"negative\", \"positive\"]))"
   ]
  },
  {
   "cell_type": "code",
   "execution_count": null,
   "id": "2682feb8-9ce0-4445-a906-ae8b5b9fdf9f",
   "metadata": {},
   "outputs": [],
   "source": []
  }
 ],
 "metadata": {
  "kernelspec": {
   "display_name": "Python 3 (ipykernel)",
   "language": "python",
   "name": "python3"
  },
  "language_info": {
   "codemirror_mode": {
    "name": "ipython",
    "version": 3
   },
   "file_extension": ".py",
   "mimetype": "text/x-python",
   "name": "python",
   "nbconvert_exporter": "python",
   "pygments_lexer": "ipython3",
   "version": "3.12.4"
  }
 },
 "nbformat": 4,
 "nbformat_minor": 5
}
