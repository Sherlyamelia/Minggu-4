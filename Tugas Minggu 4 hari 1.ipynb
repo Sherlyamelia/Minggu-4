{
 "cells": [
  {
   "cell_type": "code",
   "execution_count": null,
   "id": "a3c80c55-47c8-4d40-b879-84e665ff90f3",
   "metadata": {},
   "outputs": [],
   "source": [
    "pip install pandas numpy matplotlib statsmodels sklearn tensorflow"
   ]
  },
  {
   "cell_type": "code",
   "execution_count": null,
   "id": "567aea84",
   "metadata": {},
   "outputs": [],
   "source": [
    "pip install pandas"
   ]
  },
  {
   "cell_type": "code",
   "execution_count": 3,
   "id": "afbe0555-65f6-4885-8c87-a915f4926297",
   "metadata": {},
   "outputs": [
    {
     "name": "stdout",
     "output_type": "stream",
     "text": [
      "Perkiraan penjualan bulan berikutnya: 754.3703598853463\n"
     ]
    },
    {
     "name": "stderr",
     "output_type": "stream",
     "text": [
      "C:\\Users\\asus\\AppData\\Local\\Temp\\ipykernel_12884\\261935487.py:3: UserWarning: Could not infer format, so each element will be parsed individually, falling back to `dateutil`. To ensure parsing is consistent and as-expected, please specify a format.\n",
      "  data = pd.read_csv('sales_data.csv', parse_dates=['Month'], index_col='Month')\n"
     ]
    }
   ],
   "source": [
    "#rata-rata (Average)\n",
    "import pandas as pd\n",
    "data = pd.read_csv('sales_data.csv', parse_dates=['Month'], index_col='Month')\n",
    "forecast = data['Revenue'].mean()\n",
    "print(f\"Perkiraan penjualan bulan berikutnya: {forecast}\")"
   ]
  },
  {
   "cell_type": "code",
   "execution_count": 5,
   "id": "e457eff7-f95e-45d1-92b9-0bccca048a54",
   "metadata": {},
   "outputs": [
    {
     "name": "stdout",
     "output_type": "stream",
     "text": [
      "            Date  Day  Year  Customer_Age       Age_Group Customer_Gender  \\\n",
      "Month                                                                       \n",
      "April  4/12/2016   12  2016            41  Adults (35-64)               M   \n",
      "April   4/2/2014    2  2014            18     Youth (<25)               M   \n",
      "April   4/2/2016    2  2016            18     Youth (<25)               M   \n",
      "March   3/4/2014    4  2014            37  Adults (35-64)               F   \n",
      "March   3/4/2016    4  2016            37  Adults (35-64)               F   \n",
      "\n",
      "              Country          State Product_Category Sub_Category  \\\n",
      "Month                                                                \n",
      "April  United Kingdom        England         Clothing        Vests   \n",
      "April       Australia     Queensland         Clothing        Vests   \n",
      "April       Australia     Queensland         Clothing        Vests   \n",
      "March          France  Seine (Paris)         Clothing        Vests   \n",
      "March          France  Seine (Paris)         Clothing        Vests   \n",
      "\n",
      "               Product  Order_Quantity  Unit_Cost  Unit_Price  Profit  Cost  \\\n",
      "Month                                                                         \n",
      "April  Classic Vest, S               3         24          64     112    72   \n",
      "April  Classic Vest, M              22         24          64     655   528   \n",
      "April  Classic Vest, M              22         24          64     655   528   \n",
      "March  Classic Vest, L              24         24          64     684   576   \n",
      "March  Classic Vest, L              23         24          64     655   552   \n",
      "\n",
      "       Revenue  Moving_Average  \n",
      "Month                           \n",
      "April      184      225.333333  \n",
      "April     1183      578.666667  \n",
      "April     1183      850.000000  \n",
      "March     1260     1208.666667  \n",
      "March     1207     1216.666667  \n"
     ]
    }
   ],
   "source": [
    "#rata-rata bergerak (Moving Average)\n",
    "window = 3  # Rentang waktu untuk rata-rata bergerak\n",
    "data['Moving_Average'] = data['Revenue'].rolling(window=window).mean()\n",
    "print(data.tail())"
   ]
  },
  {
   "cell_type": "code",
   "execution_count": null,
   "id": "bbbc92bb",
   "metadata": {},
   "outputs": [],
   "source": [
    "pip install statsmodels --index-url https://pypi.org/simple"
   ]
  },
  {
   "cell_type": "code",
   "execution_count": 7,
   "id": "8ec78bcc-1a41-4d9d-8cf5-f15276f2eb1e",
   "metadata": {},
   "outputs": [
    {
     "name": "stderr",
     "output_type": "stream",
     "text": [
      "C:\\Users\\asus\\anaconda3\\Lib\\site-packages\\statsmodels\\tsa\\base\\tsa_model.py:559: UserWarning: Could not infer format, so each element will be parsed individually, falling back to `dateutil`. To ensure parsing is consistent and as-expected, please specify a format.\n",
      "  _index = to_datetime(index)\n",
      "C:\\Users\\asus\\anaconda3\\Lib\\site-packages\\statsmodels\\tsa\\base\\tsa_model.py:473: ValueWarning: An unsupported index was provided and will be ignored when e.g. forecasting.\n",
      "  self._init_dates(dates, freq)\n",
      "C:\\Users\\asus\\anaconda3\\Lib\\site-packages\\statsmodels\\tsa\\base\\tsa_model.py:836: ValueWarning: No supported index is available. Prediction results will be given with an integer index beginning at `start`.\n",
      "  return get_prediction_index(\n",
      "C:\\Users\\asus\\anaconda3\\Lib\\site-packages\\statsmodels\\tsa\\base\\tsa_model.py:836: FutureWarning: No supported index is available. In the next version, calling this method in a model without a supported index will result in an exception.\n",
      "  return get_prediction_index(\n"
     ]
    },
    {
     "name": "stdout",
     "output_type": "stream",
     "text": [
      "113036    965.283155\n",
      "113037    965.283155\n",
      "113038    965.283155\n",
      "113039    965.283155\n",
      "113040    965.283155\n",
      "113041    965.283155\n",
      "113042    965.283155\n",
      "113043    965.283155\n",
      "113044    965.283155\n",
      "113045    965.283155\n",
      "113046    965.283155\n",
      "113047    965.283155\n",
      "dtype: float64\n"
     ]
    }
   ],
   "source": [
    "#perataan eksponensial (exponential smoothing)\n",
    "from statsmodels.tsa.holtwinters import SimpleExpSmoothing\n",
    "model = SimpleExpSmoothing(data['Revenue'])\n",
    "model_fit = model.fit(smoothing_level=0.2, optimized=False)\n",
    "forecast = model_fit.forecast(steps=12)\n",
    "print(forecast)"
   ]
  },
  {
   "cell_type": "code",
   "execution_count": 4,
   "id": "a0159899",
   "metadata": {},
   "outputs": [
    {
     "name": "stdout",
     "output_type": "stream",
     "text": [
      "statsmodels is installed!\n"
     ]
    }
   ],
   "source": [
    "from statsmodels.tsa.holtwinters import SimpleExpSmoothing\n",
    "print(\"statsmodels is installed!\")"
   ]
  },
  {
   "cell_type": "code",
   "execution_count": 9,
   "id": "bdd29c49-e458-42ab-a22c-0e76ac6dbe25",
   "metadata": {},
   "outputs": [
    {
     "name": "stderr",
     "output_type": "stream",
     "text": [
      "C:\\Users\\asus\\anaconda3\\Lib\\site-packages\\statsmodels\\tsa\\base\\tsa_model.py:559: UserWarning: Could not infer format, so each element will be parsed individually, falling back to `dateutil`. To ensure parsing is consistent and as-expected, please specify a format.\n",
      "  _index = to_datetime(index)\n",
      "C:\\Users\\asus\\anaconda3\\Lib\\site-packages\\statsmodels\\tsa\\base\\tsa_model.py:473: ValueWarning: An unsupported index was provided and will be ignored when e.g. forecasting.\n",
      "  self._init_dates(dates, freq)\n",
      "C:\\Users\\asus\\anaconda3\\Lib\\site-packages\\statsmodels\\tsa\\base\\tsa_model.py:559: UserWarning: Could not infer format, so each element will be parsed individually, falling back to `dateutil`. To ensure parsing is consistent and as-expected, please specify a format.\n",
      "  _index = to_datetime(index)\n",
      "C:\\Users\\asus\\anaconda3\\Lib\\site-packages\\statsmodels\\tsa\\base\\tsa_model.py:473: ValueWarning: An unsupported index was provided and will be ignored when e.g. forecasting.\n",
      "  self._init_dates(dates, freq)\n",
      "C:\\Users\\asus\\anaconda3\\Lib\\site-packages\\statsmodels\\tsa\\base\\tsa_model.py:559: UserWarning: Could not infer format, so each element will be parsed individually, falling back to `dateutil`. To ensure parsing is consistent and as-expected, please specify a format.\n",
      "  _index = to_datetime(index)\n",
      "C:\\Users\\asus\\anaconda3\\Lib\\site-packages\\statsmodels\\tsa\\base\\tsa_model.py:473: ValueWarning: An unsupported index was provided and will be ignored when e.g. forecasting.\n",
      "  self._init_dates(dates, freq)\n"
     ]
    },
    {
     "name": "stdout",
     "output_type": "stream",
     "text": [
      "113036    1048.646074\n",
      "113037     985.111246\n",
      "113038    1105.947545\n",
      "113039    1110.486649\n",
      "113040    1116.345592\n",
      "113041    1102.030827\n",
      "113042    1094.934941\n",
      "113043    1083.040251\n",
      "113044    1098.046526\n",
      "113045    1097.652954\n",
      "113046    1099.470999\n",
      "113047    1096.053967\n",
      "Name: predicted_mean, dtype: float64\n"
     ]
    },
    {
     "name": "stderr",
     "output_type": "stream",
     "text": [
      "C:\\Users\\asus\\anaconda3\\Lib\\site-packages\\statsmodels\\tsa\\base\\tsa_model.py:836: ValueWarning: No supported index is available. Prediction results will be given with an integer index beginning at `start`.\n",
      "  return get_prediction_index(\n",
      "C:\\Users\\asus\\anaconda3\\Lib\\site-packages\\statsmodels\\tsa\\base\\tsa_model.py:836: FutureWarning: No supported index is available. In the next version, calling this method in a model without a supported index will result in an exception.\n",
      "  return get_prediction_index(\n"
     ]
    }
   ],
   "source": [
    "#model ARIMA (Auto-Regressive Integrated Moving Average)\n",
    "from statsmodels.tsa.arima.model import ARIMA\n",
    "model = ARIMA(data['Revenue'], order=(5,1,0))  # (p,d,q)\n",
    "model_fit = model.fit()\n",
    "forecast = model_fit.forecast(steps=12)\n",
    "print(forecast)"
   ]
  },
  {
   "cell_type": "code",
   "execution_count": null,
   "id": "1774dcd6-0a2e-4c95-83a5-6f54a7c1f70e",
   "metadata": {},
   "outputs": [],
   "source": [
    "pip install tensorflow --upgrade"
   ]
  },
  {
   "cell_type": "code",
   "execution_count": null,
   "id": "4ac03dcc",
   "metadata": {},
   "outputs": [],
   "source": [
    "pip install scikit-learn"
   ]
  },
  {
   "cell_type": "code",
   "execution_count": 8,
   "id": "41e365aa-936a-4ba8-826e-496890bc8cb7",
   "metadata": {},
   "outputs": [
    {
     "name": "stdout",
     "output_type": "stream",
     "text": [
      "Note: you may need to restart the kernel to use updated packages.\n"
     ]
    },
    {
     "name": "stderr",
     "output_type": "stream",
     "text": [
      "WARNING: Package(s) not found: tensorflow\n"
     ]
    }
   ],
   "source": [
    "pip show tensorflow"
   ]
  },
  {
   "cell_type": "code",
   "execution_count": 11,
   "id": "df43d218-4d92-4da5-a36f-9aae4432bfdb",
   "metadata": {},
   "outputs": [],
   "source": [
    "#Forecasting dengan model LSTM(Long Short-Term Memory)\n",
    "#1. Preprocessing Data\n",
    "import numpy as np\n",
    "from sklearn.preprocessing import MinMaxScaler\n",
    "from tensorflow.keras.models import Sequential\n",
    "from tensorflow.keras.layers import LSTM, Dense\n",
    "\n",
    "data_values = data['Revenue'].values.reshape(-1, 1)\n",
    "scaler = MinMaxScaler(feature_range=(0, 1))\n",
    "scaled_data = scaler.fit_transform(data_values)\n",
    "train_size = int(len(scaled_data) * 0.8)\n",
    "train_data = scaled_data[:train_size]\n",
    "test_data = scaled_data[train_size:]\n",
    "\n",
    "def create_dataset(data, time_step=1):\n",
    "    X, y = [], []\n",
    "    for i in range(len(data) - time_step - 1):\n",
    "        X.append(data[i:(i + time_step), 0])\n",
    "        y.append(data[i + time_step, 0])\n",
    "    return np.array(X), np.array(y)\n",
    "\n",
    "time_step = 3\n",
    "X_train, y_train = create_dataset(train_data, time_step)\n",
    "X_test, y_test = create_dataset(test_data, time_step)\n",
    "\n",
    "X_train = X_train.reshape(X_train.shape[0], time_step, 1)\n",
    "X_test = X_test.reshape(X_test.shape[0], time_step, 1)"
   ]
  },
  {
   "cell_type": "code",
   "execution_count": 13,
   "id": "0305d3e3-699f-414c-bc42-0cbc749926e6",
   "metadata": {},
   "outputs": [
    {
     "name": "stderr",
     "output_type": "stream",
     "text": [
      "C:\\Users\\asus\\anaconda3\\Lib\\site-packages\\keras\\src\\layers\\rnn\\rnn.py:204: UserWarning: Do not pass an `input_shape`/`input_dim` argument to a layer. When using Sequential models, prefer using an `Input(shape)` object as the first layer in the model instead.\n",
      "  super().__init__(**kwargs)\n"
     ]
    },
    {
     "name": "stdout",
     "output_type": "stream",
     "text": [
      "Epoch 1/100\n",
      "\u001b[1m2826/2826\u001b[0m \u001b[32m━━━━━━━━━━━━━━━━━━━━\u001b[0m\u001b[37m\u001b[0m \u001b[1m20s\u001b[0m 5ms/step - loss: 2.4271e-04\n",
      "Epoch 2/100\n",
      "\u001b[1m2826/2826\u001b[0m \u001b[32m━━━━━━━━━━━━━━━━━━━━\u001b[0m\u001b[37m\u001b[0m \u001b[1m14s\u001b[0m 5ms/step - loss: 1.9893e-04\n",
      "Epoch 3/100\n",
      "\u001b[1m2826/2826\u001b[0m \u001b[32m━━━━━━━━━━━━━━━━━━━━\u001b[0m\u001b[37m\u001b[0m \u001b[1m14s\u001b[0m 5ms/step - loss: 1.9417e-04\n",
      "Epoch 4/100\n",
      "\u001b[1m2826/2826\u001b[0m \u001b[32m━━━━━━━━━━━━━━━━━━━━\u001b[0m\u001b[37m\u001b[0m \u001b[1m14s\u001b[0m 5ms/step - loss: 1.8960e-04\n",
      "Epoch 5/100\n",
      "\u001b[1m2826/2826\u001b[0m \u001b[32m━━━━━━━━━━━━━━━━━━━━\u001b[0m\u001b[37m\u001b[0m \u001b[1m21s\u001b[0m 5ms/step - loss: 1.9102e-04\n",
      "Epoch 6/100\n",
      "\u001b[1m2826/2826\u001b[0m \u001b[32m━━━━━━━━━━━━━━━━━━━━\u001b[0m\u001b[37m\u001b[0m \u001b[1m14s\u001b[0m 5ms/step - loss: 1.9343e-04\n",
      "Epoch 7/100\n",
      "\u001b[1m2826/2826\u001b[0m \u001b[32m━━━━━━━━━━━━━━━━━━━━\u001b[0m\u001b[37m\u001b[0m \u001b[1m14s\u001b[0m 5ms/step - loss: 1.8484e-04\n",
      "Epoch 8/100\n",
      "\u001b[1m2826/2826\u001b[0m \u001b[32m━━━━━━━━━━━━━━━━━━━━\u001b[0m\u001b[37m\u001b[0m \u001b[1m14s\u001b[0m 5ms/step - loss: 1.8383e-04\n",
      "Epoch 9/100\n",
      "\u001b[1m2826/2826\u001b[0m \u001b[32m━━━━━━━━━━━━━━━━━━━━\u001b[0m\u001b[37m\u001b[0m \u001b[1m21s\u001b[0m 5ms/step - loss: 1.8630e-04\n",
      "Epoch 10/100\n",
      "\u001b[1m2826/2826\u001b[0m \u001b[32m━━━━━━━━━━━━━━━━━━━━\u001b[0m\u001b[37m\u001b[0m \u001b[1m14s\u001b[0m 5ms/step - loss: 1.7943e-04\n",
      "Epoch 11/100\n",
      "\u001b[1m2826/2826\u001b[0m \u001b[32m━━━━━━━━━━━━━━━━━━━━\u001b[0m\u001b[37m\u001b[0m \u001b[1m14s\u001b[0m 5ms/step - loss: 1.8081e-04\n",
      "Epoch 12/100\n",
      "\u001b[1m2826/2826\u001b[0m \u001b[32m━━━━━━━━━━━━━━━━━━━━\u001b[0m\u001b[37m\u001b[0m \u001b[1m14s\u001b[0m 5ms/step - loss: 1.8190e-04\n",
      "Epoch 13/100\n",
      "\u001b[1m2826/2826\u001b[0m \u001b[32m━━━━━━━━━━━━━━━━━━━━\u001b[0m\u001b[37m\u001b[0m \u001b[1m14s\u001b[0m 5ms/step - loss: 1.8150e-04\n",
      "Epoch 14/100\n",
      "\u001b[1m2826/2826\u001b[0m \u001b[32m━━━━━━━━━━━━━━━━━━━━\u001b[0m\u001b[37m\u001b[0m \u001b[1m14s\u001b[0m 5ms/step - loss: 1.8316e-04\n",
      "Epoch 15/100\n",
      "\u001b[1m2826/2826\u001b[0m \u001b[32m━━━━━━━━━━━━━━━━━━━━\u001b[0m\u001b[37m\u001b[0m \u001b[1m14s\u001b[0m 5ms/step - loss: 1.7795e-04\n",
      "Epoch 16/100\n",
      "\u001b[1m2826/2826\u001b[0m \u001b[32m━━━━━━━━━━━━━━━━━━━━\u001b[0m\u001b[37m\u001b[0m \u001b[1m14s\u001b[0m 5ms/step - loss: 1.7350e-04\n",
      "Epoch 17/100\n",
      "\u001b[1m2826/2826\u001b[0m \u001b[32m━━━━━━━━━━━━━━━━━━━━\u001b[0m\u001b[37m\u001b[0m \u001b[1m15s\u001b[0m 5ms/step - loss: 1.7374e-04\n",
      "Epoch 18/100\n",
      "\u001b[1m2826/2826\u001b[0m \u001b[32m━━━━━━━━━━━━━━━━━━━━\u001b[0m\u001b[37m\u001b[0m \u001b[1m14s\u001b[0m 5ms/step - loss: 1.8203e-04\n",
      "Epoch 19/100\n",
      "\u001b[1m2826/2826\u001b[0m \u001b[32m━━━━━━━━━━━━━━━━━━━━\u001b[0m\u001b[37m\u001b[0m \u001b[1m16s\u001b[0m 6ms/step - loss: 1.8518e-04\n",
      "Epoch 20/100\n",
      "\u001b[1m2826/2826\u001b[0m \u001b[32m━━━━━━━━━━━━━━━━━━━━\u001b[0m\u001b[37m\u001b[0m \u001b[1m16s\u001b[0m 6ms/step - loss: 1.7896e-04\n",
      "Epoch 21/100\n",
      "\u001b[1m2826/2826\u001b[0m \u001b[32m━━━━━━━━━━━━━━━━━━━━\u001b[0m\u001b[37m\u001b[0m \u001b[1m16s\u001b[0m 6ms/step - loss: 1.7782e-04\n",
      "Epoch 22/100\n",
      "\u001b[1m2826/2826\u001b[0m \u001b[32m━━━━━━━━━━━━━━━━━━━━\u001b[0m\u001b[37m\u001b[0m \u001b[1m21s\u001b[0m 6ms/step - loss: 1.7758e-04\n",
      "Epoch 23/100\n",
      "\u001b[1m2826/2826\u001b[0m \u001b[32m━━━━━━━━━━━━━━━━━━━━\u001b[0m\u001b[37m\u001b[0m \u001b[1m16s\u001b[0m 6ms/step - loss: 1.7819e-04\n",
      "Epoch 24/100\n",
      "\u001b[1m2826/2826\u001b[0m \u001b[32m━━━━━━━━━━━━━━━━━━━━\u001b[0m\u001b[37m\u001b[0m \u001b[1m16s\u001b[0m 6ms/step - loss: 1.8044e-04\n",
      "Epoch 25/100\n",
      "\u001b[1m2826/2826\u001b[0m \u001b[32m━━━━━━━━━━━━━━━━━━━━\u001b[0m\u001b[37m\u001b[0m \u001b[1m16s\u001b[0m 6ms/step - loss: 1.8221e-04\n",
      "Epoch 26/100\n",
      "\u001b[1m2826/2826\u001b[0m \u001b[32m━━━━━━━━━━━━━━━━━━━━\u001b[0m\u001b[37m\u001b[0m \u001b[1m16s\u001b[0m 6ms/step - loss: 1.7705e-04\n",
      "Epoch 27/100\n",
      "\u001b[1m2826/2826\u001b[0m \u001b[32m━━━━━━━━━━━━━━━━━━━━\u001b[0m\u001b[37m\u001b[0m \u001b[1m18s\u001b[0m 5ms/step - loss: 1.8029e-04\n",
      "Epoch 28/100\n",
      "\u001b[1m2826/2826\u001b[0m \u001b[32m━━━━━━━━━━━━━━━━━━━━\u001b[0m\u001b[37m\u001b[0m \u001b[1m14s\u001b[0m 5ms/step - loss: 1.7681e-04\n",
      "Epoch 29/100\n",
      "\u001b[1m2826/2826\u001b[0m \u001b[32m━━━━━━━━━━━━━━━━━━━━\u001b[0m\u001b[37m\u001b[0m \u001b[1m16s\u001b[0m 6ms/step - loss: 1.7711e-04\n",
      "Epoch 30/100\n",
      "\u001b[1m2826/2826\u001b[0m \u001b[32m━━━━━━━━━━━━━━━━━━━━\u001b[0m\u001b[37m\u001b[0m \u001b[1m16s\u001b[0m 6ms/step - loss: 1.8270e-04\n",
      "Epoch 31/100\n",
      "\u001b[1m2826/2826\u001b[0m \u001b[32m━━━━━━━━━━━━━━━━━━━━\u001b[0m\u001b[37m\u001b[0m \u001b[1m21s\u001b[0m 6ms/step - loss: 1.7796e-04\n",
      "Epoch 32/100\n",
      "\u001b[1m2826/2826\u001b[0m \u001b[32m━━━━━━━━━━━━━━━━━━━━\u001b[0m\u001b[37m\u001b[0m \u001b[1m18s\u001b[0m 6ms/step - loss: 1.8079e-04\n",
      "Epoch 33/100\n",
      "\u001b[1m2826/2826\u001b[0m \u001b[32m━━━━━━━━━━━━━━━━━━━━\u001b[0m\u001b[37m\u001b[0m \u001b[1m17s\u001b[0m 6ms/step - loss: 1.7954e-04\n",
      "Epoch 34/100\n",
      "\u001b[1m2826/2826\u001b[0m \u001b[32m━━━━━━━━━━━━━━━━━━━━\u001b[0m\u001b[37m\u001b[0m \u001b[1m21s\u001b[0m 6ms/step - loss: 1.7226e-04\n",
      "Epoch 35/100\n",
      "\u001b[1m2826/2826\u001b[0m \u001b[32m━━━━━━━━━━━━━━━━━━━━\u001b[0m\u001b[37m\u001b[0m \u001b[1m17s\u001b[0m 6ms/step - loss: 1.7938e-04\n",
      "Epoch 36/100\n",
      "\u001b[1m2826/2826\u001b[0m \u001b[32m━━━━━━━━━━━━━━━━━━━━\u001b[0m\u001b[37m\u001b[0m \u001b[1m17s\u001b[0m 6ms/step - loss: 1.7378e-04\n",
      "Epoch 37/100\n",
      "\u001b[1m2826/2826\u001b[0m \u001b[32m━━━━━━━━━━━━━━━━━━━━\u001b[0m\u001b[37m\u001b[0m \u001b[1m17s\u001b[0m 6ms/step - loss: 1.7644e-04\n",
      "Epoch 38/100\n",
      "\u001b[1m2826/2826\u001b[0m \u001b[32m━━━━━━━━━━━━━━━━━━━━\u001b[0m\u001b[37m\u001b[0m \u001b[1m17s\u001b[0m 6ms/step - loss: 1.7833e-04\n",
      "Epoch 39/100\n",
      "\u001b[1m2826/2826\u001b[0m \u001b[32m━━━━━━━━━━━━━━━━━━━━\u001b[0m\u001b[37m\u001b[0m \u001b[1m17s\u001b[0m 6ms/step - loss: 1.7557e-04\n",
      "Epoch 40/100\n",
      "\u001b[1m2826/2826\u001b[0m \u001b[32m━━━━━━━━━━━━━━━━━━━━\u001b[0m\u001b[37m\u001b[0m \u001b[1m17s\u001b[0m 6ms/step - loss: 1.7782e-04\n",
      "Epoch 41/100\n",
      "\u001b[1m2826/2826\u001b[0m \u001b[32m━━━━━━━━━━━━━━━━━━━━\u001b[0m\u001b[37m\u001b[0m \u001b[1m17s\u001b[0m 6ms/step - loss: 1.7907e-04\n",
      "Epoch 42/100\n",
      "\u001b[1m2826/2826\u001b[0m \u001b[32m━━━━━━━━━━━━━━━━━━━━\u001b[0m\u001b[37m\u001b[0m \u001b[1m17s\u001b[0m 6ms/step - loss: 1.7307e-04\n",
      "Epoch 43/100\n",
      "\u001b[1m2826/2826\u001b[0m \u001b[32m━━━━━━━━━━━━━━━━━━━━\u001b[0m\u001b[37m\u001b[0m \u001b[1m20s\u001b[0m 6ms/step - loss: 1.7633e-04\n",
      "Epoch 44/100\n",
      "\u001b[1m2826/2826\u001b[0m \u001b[32m━━━━━━━━━━━━━━━━━━━━\u001b[0m\u001b[37m\u001b[0m \u001b[1m17s\u001b[0m 6ms/step - loss: 1.7610e-04\n",
      "Epoch 45/100\n",
      "\u001b[1m2826/2826\u001b[0m \u001b[32m━━━━━━━━━━━━━━━━━━━━\u001b[0m\u001b[37m\u001b[0m \u001b[1m21s\u001b[0m 6ms/step - loss: 1.8312e-04\n",
      "Epoch 46/100\n",
      "\u001b[1m2826/2826\u001b[0m \u001b[32m━━━━━━━━━━━━━━━━━━━━\u001b[0m\u001b[37m\u001b[0m \u001b[1m20s\u001b[0m 6ms/step - loss: 1.7322e-04\n",
      "Epoch 47/100\n",
      "\u001b[1m2826/2826\u001b[0m \u001b[32m━━━━━━━━━━━━━━━━━━━━\u001b[0m\u001b[37m\u001b[0m \u001b[1m17s\u001b[0m 6ms/step - loss: 1.7357e-04\n",
      "Epoch 48/100\n",
      "\u001b[1m2826/2826\u001b[0m \u001b[32m━━━━━━━━━━━━━━━━━━━━\u001b[0m\u001b[37m\u001b[0m \u001b[1m17s\u001b[0m 6ms/step - loss: 1.7602e-04\n",
      "Epoch 49/100\n",
      "\u001b[1m2826/2826\u001b[0m \u001b[32m━━━━━━━━━━━━━━━━━━━━\u001b[0m\u001b[37m\u001b[0m \u001b[1m20s\u001b[0m 6ms/step - loss: 1.7380e-04\n",
      "Epoch 50/100\n",
      "\u001b[1m2826/2826\u001b[0m \u001b[32m━━━━━━━━━━━━━━━━━━━━\u001b[0m\u001b[37m\u001b[0m \u001b[1m17s\u001b[0m 6ms/step - loss: 1.7361e-04\n",
      "Epoch 51/100\n",
      "\u001b[1m2826/2826\u001b[0m \u001b[32m━━━━━━━━━━━━━━━━━━━━\u001b[0m\u001b[37m\u001b[0m \u001b[1m28s\u001b[0m 8ms/step - loss: 1.7549e-04\n",
      "Epoch 52/100\n",
      "\u001b[1m2826/2826\u001b[0m \u001b[32m━━━━━━━━━━━━━━━━━━━━\u001b[0m\u001b[37m\u001b[0m \u001b[1m31s\u001b[0m 5ms/step - loss: 1.7157e-04\n",
      "Epoch 53/100\n",
      "\u001b[1m2826/2826\u001b[0m \u001b[32m━━━━━━━━━━━━━━━━━━━━\u001b[0m\u001b[37m\u001b[0m \u001b[1m22s\u001b[0m 5ms/step - loss: 1.7895e-04\n",
      "Epoch 54/100\n",
      "\u001b[1m2826/2826\u001b[0m \u001b[32m━━━━━━━━━━━━━━━━━━━━\u001b[0m\u001b[37m\u001b[0m \u001b[1m15s\u001b[0m 5ms/step - loss: 1.6915e-04\n",
      "Epoch 55/100\n",
      "\u001b[1m2826/2826\u001b[0m \u001b[32m━━━━━━━━━━━━━━━━━━━━\u001b[0m\u001b[37m\u001b[0m \u001b[1m22s\u001b[0m 6ms/step - loss: 1.6994e-04\n",
      "Epoch 56/100\n",
      "\u001b[1m2826/2826\u001b[0m \u001b[32m━━━━━━━━━━━━━━━━━━━━\u001b[0m\u001b[37m\u001b[0m \u001b[1m19s\u001b[0m 6ms/step - loss: 1.7147e-04\n",
      "Epoch 57/100\n",
      "\u001b[1m2826/2826\u001b[0m \u001b[32m━━━━━━━━━━━━━━━━━━━━\u001b[0m\u001b[37m\u001b[0m \u001b[1m17s\u001b[0m 6ms/step - loss: 1.6734e-04\n",
      "Epoch 58/100\n",
      "\u001b[1m2826/2826\u001b[0m \u001b[32m━━━━━━━━━━━━━━━━━━━━\u001b[0m\u001b[37m\u001b[0m \u001b[1m20s\u001b[0m 6ms/step - loss: 1.7557e-04\n",
      "Epoch 59/100\n",
      "\u001b[1m2826/2826\u001b[0m \u001b[32m━━━━━━━━━━━━━━━━━━━━\u001b[0m\u001b[37m\u001b[0m \u001b[1m18s\u001b[0m 6ms/step - loss: 1.6959e-04\n",
      "Epoch 60/100\n",
      "\u001b[1m2826/2826\u001b[0m \u001b[32m━━━━━━━━━━━━━━━━━━━━\u001b[0m\u001b[37m\u001b[0m \u001b[1m17s\u001b[0m 6ms/step - loss: 1.7272e-04\n",
      "Epoch 61/100\n",
      "\u001b[1m2826/2826\u001b[0m \u001b[32m━━━━━━━━━━━━━━━━━━━━\u001b[0m\u001b[37m\u001b[0m \u001b[1m21s\u001b[0m 6ms/step - loss: 1.7524e-04\n",
      "Epoch 62/100\n",
      "\u001b[1m2826/2826\u001b[0m \u001b[32m━━━━━━━━━━━━━━━━━━━━\u001b[0m\u001b[37m\u001b[0m \u001b[1m22s\u001b[0m 7ms/step - loss: 1.7228e-04\n",
      "Epoch 63/100\n",
      "\u001b[1m2826/2826\u001b[0m \u001b[32m━━━━━━━━━━━━━━━━━━━━\u001b[0m\u001b[37m\u001b[0m \u001b[1m19s\u001b[0m 6ms/step - loss: 1.6834e-04\n",
      "Epoch 64/100\n",
      "\u001b[1m2826/2826\u001b[0m \u001b[32m━━━━━━━━━━━━━━━━━━━━\u001b[0m\u001b[37m\u001b[0m \u001b[1m21s\u001b[0m 6ms/step - loss: 1.7080e-04\n",
      "Epoch 65/100\n",
      "\u001b[1m2826/2826\u001b[0m \u001b[32m━━━━━━━━━━━━━━━━━━━━\u001b[0m\u001b[37m\u001b[0m \u001b[1m21s\u001b[0m 6ms/step - loss: 1.7220e-04\n",
      "Epoch 66/100\n",
      "\u001b[1m2826/2826\u001b[0m \u001b[32m━━━━━━━━━━━━━━━━━━━━\u001b[0m\u001b[37m\u001b[0m \u001b[1m17s\u001b[0m 6ms/step - loss: 1.6749e-04\n",
      "Epoch 67/100\n",
      "\u001b[1m2826/2826\u001b[0m \u001b[32m━━━━━━━━━━━━━━━━━━━━\u001b[0m\u001b[37m\u001b[0m \u001b[1m18s\u001b[0m 6ms/step - loss: 1.6922e-04\n",
      "Epoch 68/100\n",
      "\u001b[1m2826/2826\u001b[0m \u001b[32m━━━━━━━━━━━━━━━━━━━━\u001b[0m\u001b[37m\u001b[0m \u001b[1m20s\u001b[0m 7ms/step - loss: 1.7771e-04\n",
      "Epoch 69/100\n",
      "\u001b[1m2826/2826\u001b[0m \u001b[32m━━━━━━━━━━━━━━━━━━━━\u001b[0m\u001b[37m\u001b[0m \u001b[1m18s\u001b[0m 6ms/step - loss: 1.7141e-04\n",
      "Epoch 70/100\n",
      "\u001b[1m2826/2826\u001b[0m \u001b[32m━━━━━━━━━━━━━━━━━━━━\u001b[0m\u001b[37m\u001b[0m \u001b[1m20s\u001b[0m 6ms/step - loss: 1.7047e-04\n",
      "Epoch 71/100\n",
      "\u001b[1m2826/2826\u001b[0m \u001b[32m━━━━━━━━━━━━━━━━━━━━\u001b[0m\u001b[37m\u001b[0m \u001b[1m17s\u001b[0m 6ms/step - loss: 1.6859e-04\n",
      "Epoch 72/100\n",
      "\u001b[1m2826/2826\u001b[0m \u001b[32m━━━━━━━━━━━━━━━━━━━━\u001b[0m\u001b[37m\u001b[0m \u001b[1m20s\u001b[0m 6ms/step - loss: 1.7447e-04\n",
      "Epoch 73/100\n",
      "\u001b[1m2826/2826\u001b[0m \u001b[32m━━━━━━━━━━━━━━━━━━━━\u001b[0m\u001b[37m\u001b[0m \u001b[1m17s\u001b[0m 6ms/step - loss: 1.7858e-04\n",
      "Epoch 74/100\n",
      "\u001b[1m2826/2826\u001b[0m \u001b[32m━━━━━━━━━━━━━━━━━━━━\u001b[0m\u001b[37m\u001b[0m \u001b[1m20s\u001b[0m 6ms/step - loss: 1.7877e-04\n",
      "Epoch 75/100\n",
      "\u001b[1m2826/2826\u001b[0m \u001b[32m━━━━━━━━━━━━━━━━━━━━\u001b[0m\u001b[37m\u001b[0m \u001b[1m17s\u001b[0m 6ms/step - loss: 1.6825e-04\n",
      "Epoch 76/100\n",
      "\u001b[1m2826/2826\u001b[0m \u001b[32m━━━━━━━━━━━━━━━━━━━━\u001b[0m\u001b[37m\u001b[0m \u001b[1m20s\u001b[0m 6ms/step - loss: 1.6854e-04\n",
      "Epoch 77/100\n",
      "\u001b[1m2826/2826\u001b[0m \u001b[32m━━━━━━━━━━━━━━━━━━━━\u001b[0m\u001b[37m\u001b[0m \u001b[1m21s\u001b[0m 6ms/step - loss: 1.7305e-04\n",
      "Epoch 78/100\n",
      "\u001b[1m2826/2826\u001b[0m \u001b[32m━━━━━━━━━━━━━━━━━━━━\u001b[0m\u001b[37m\u001b[0m \u001b[1m20s\u001b[0m 6ms/step - loss: 1.6627e-04\n",
      "Epoch 79/100\n",
      "\u001b[1m2826/2826\u001b[0m \u001b[32m━━━━━━━━━━━━━━━━━━━━\u001b[0m\u001b[37m\u001b[0m \u001b[1m21s\u001b[0m 6ms/step - loss: 1.7013e-04\n",
      "Epoch 80/100\n",
      "\u001b[1m2826/2826\u001b[0m \u001b[32m━━━━━━━━━━━━━━━━━━━━\u001b[0m\u001b[37m\u001b[0m \u001b[1m17s\u001b[0m 6ms/step - loss: 1.7128e-04\n",
      "Epoch 81/100\n",
      "\u001b[1m2826/2826\u001b[0m \u001b[32m━━━━━━━━━━━━━━━━━━━━\u001b[0m\u001b[37m\u001b[0m \u001b[1m20s\u001b[0m 6ms/step - loss: 1.6501e-04\n",
      "Epoch 82/100\n",
      "\u001b[1m2826/2826\u001b[0m \u001b[32m━━━━━━━━━━━━━━━━━━━━\u001b[0m\u001b[37m\u001b[0m \u001b[1m17s\u001b[0m 6ms/step - loss: 1.7149e-04\n",
      "Epoch 83/100\n",
      "\u001b[1m2826/2826\u001b[0m \u001b[32m━━━━━━━━━━━━━━━━━━━━\u001b[0m\u001b[37m\u001b[0m \u001b[1m17s\u001b[0m 6ms/step - loss: 1.7118e-04\n",
      "Epoch 84/100\n",
      "\u001b[1m2826/2826\u001b[0m \u001b[32m━━━━━━━━━━━━━━━━━━━━\u001b[0m\u001b[37m\u001b[0m \u001b[1m17s\u001b[0m 6ms/step - loss: 1.7438e-04\n",
      "Epoch 85/100\n",
      "\u001b[1m2826/2826\u001b[0m \u001b[32m━━━━━━━━━━━━━━━━━━━━\u001b[0m\u001b[37m\u001b[0m \u001b[1m20s\u001b[0m 6ms/step - loss: 1.6985e-04\n",
      "Epoch 86/100\n",
      "\u001b[1m2826/2826\u001b[0m \u001b[32m━━━━━━━━━━━━━━━━━━━━\u001b[0m\u001b[37m\u001b[0m \u001b[1m21s\u001b[0m 6ms/step - loss: 1.7544e-04\n",
      "Epoch 87/100\n",
      "\u001b[1m2826/2826\u001b[0m \u001b[32m━━━━━━━━━━━━━━━━━━━━\u001b[0m\u001b[37m\u001b[0m \u001b[1m21s\u001b[0m 6ms/step - loss: 1.7031e-04\n",
      "Epoch 88/100\n",
      "\u001b[1m2826/2826\u001b[0m \u001b[32m━━━━━━━━━━━━━━━━━━━━\u001b[0m\u001b[37m\u001b[0m \u001b[1m17s\u001b[0m 6ms/step - loss: 1.6819e-04\n",
      "Epoch 89/100\n",
      "\u001b[1m2826/2826\u001b[0m \u001b[32m━━━━━━━━━━━━━━━━━━━━\u001b[0m\u001b[37m\u001b[0m \u001b[1m17s\u001b[0m 6ms/step - loss: 1.7029e-04\n",
      "Epoch 90/100\n",
      "\u001b[1m2826/2826\u001b[0m \u001b[32m━━━━━━━━━━━━━━━━━━━━\u001b[0m\u001b[37m\u001b[0m \u001b[1m20s\u001b[0m 6ms/step - loss: 1.7307e-04\n",
      "Epoch 91/100\n",
      "\u001b[1m2826/2826\u001b[0m \u001b[32m━━━━━━━━━━━━━━━━━━━━\u001b[0m\u001b[37m\u001b[0m \u001b[1m21s\u001b[0m 6ms/step - loss: 1.7295e-04\n",
      "Epoch 92/100\n",
      "\u001b[1m2826/2826\u001b[0m \u001b[32m━━━━━━━━━━━━━━━━━━━━\u001b[0m\u001b[37m\u001b[0m \u001b[1m21s\u001b[0m 6ms/step - loss: 1.6771e-04\n",
      "Epoch 93/100\n",
      "\u001b[1m2826/2826\u001b[0m \u001b[32m━━━━━━━━━━━━━━━━━━━━\u001b[0m\u001b[37m\u001b[0m \u001b[1m17s\u001b[0m 6ms/step - loss: 1.7366e-04\n",
      "Epoch 94/100\n",
      "\u001b[1m2826/2826\u001b[0m \u001b[32m━━━━━━━━━━━━━━━━━━━━\u001b[0m\u001b[37m\u001b[0m \u001b[1m20s\u001b[0m 6ms/step - loss: 1.6578e-04\n",
      "Epoch 95/100\n",
      "\u001b[1m2826/2826\u001b[0m \u001b[32m━━━━━━━━━━━━━━━━━━━━\u001b[0m\u001b[37m\u001b[0m \u001b[1m17s\u001b[0m 6ms/step - loss: 1.7190e-04\n",
      "Epoch 96/100\n",
      "\u001b[1m2826/2826\u001b[0m \u001b[32m━━━━━━━━━━━━━━━━━━━━\u001b[0m\u001b[37m\u001b[0m \u001b[1m21s\u001b[0m 6ms/step - loss: 1.6822e-04\n",
      "Epoch 97/100\n",
      "\u001b[1m2826/2826\u001b[0m \u001b[32m━━━━━━━━━━━━━━━━━━━━\u001b[0m\u001b[37m\u001b[0m \u001b[1m18s\u001b[0m 6ms/step - loss: 1.7143e-04\n",
      "Epoch 98/100\n",
      "\u001b[1m2826/2826\u001b[0m \u001b[32m━━━━━━━━━━━━━━━━━━━━\u001b[0m\u001b[37m\u001b[0m \u001b[1m20s\u001b[0m 7ms/step - loss: 1.6153e-04\n",
      "Epoch 99/100\n",
      "\u001b[1m2826/2826\u001b[0m \u001b[32m━━━━━━━━━━━━━━━━━━━━\u001b[0m\u001b[37m\u001b[0m \u001b[1m27s\u001b[0m 9ms/step - loss: 1.7256e-04\n",
      "Epoch 100/100\n",
      "\u001b[1m2826/2826\u001b[0m \u001b[32m━━━━━━━━━━━━━━━━━━━━\u001b[0m\u001b[37m\u001b[0m \u001b[1m20s\u001b[0m 7ms/step - loss: 1.7029e-04\n",
      "\u001b[1m2826/2826\u001b[0m \u001b[32m━━━━━━━━━━━━━━━━━━━━\u001b[0m\u001b[37m\u001b[0m \u001b[1m11s\u001b[0m 4ms/step\n",
      "\u001b[1m707/707\u001b[0m \u001b[32m━━━━━━━━━━━━━━━━━━━━\u001b[0m\u001b[37m\u001b[0m \u001b[1m3s\u001b[0m 4ms/step\n"
     ]
    },
    {
     "data": {
      "image/png": "[encoded data removed]",
      "text/plain": [
       "<Figure size 640x480 with 1 Axes>"
      ]
     },
     "metadata": {},
     "output_type": "display_data"
    }
   ],
   "source": [
    "model = Sequential()\n",
    "model.add(LSTM(50, return_sequences=True, input_shape=(time_step, 1)))\n",
    "model.add(LSTM(50, return_sequences=False))\n",
    "model.add(Dense(1))\n",
    "\n",
    "model.compile(optimizer='adam', loss='mean_squared_error')\n",
    "model.fit(X_train, y_train, epochs=100, batch_size=32, verbose=1)\n",
    "\n",
    "train_predict = model.predict(X_train)\n",
    "test_predict = model.predict(X_test)\n",
    "\n",
    "train_predict = scaler.inverse_transform(train_predict)\n",
    "test_predict = scaler.inverse_transform(test_predict)\n",
    "\n",
    "import matplotlib.pyplot as plt\n",
    "\n",
    "plt.plot(scaler.inverse_transform(scaled_data), label='Data Asli')\n",
    "plt.plot(np.arange(time_step, len(train_predict) + time_step), train_predict, label='Prediksi Training')\n",
    "plt.plot(np.arange(len(train_predict) + 2*time_step, len(train_predict) + 2*time_step + len(test_predict)), test_predict, label='Prediksi Testing')\n",
    "plt.legend()\n",
    "plt.show()"
   ]
  },
  {
   "cell_type": "code",
   "execution_count": null,
   "id": "51912357-0f76-43a8-96e2-eb8688df0e21",
   "metadata": {},
   "outputs": [],
   "source": []
  }
 ],
 "metadata": {
  "kernelspec": {
   "display_name": "Python 3 (ipykernel)",
   "language": "python",
   "name": "python3"
  },
  "language_info": {
   "codemirror_mode": {
    "name": "ipython",
    "version": 3
   },
   "file_extension": ".py",
   "mimetype": "text/x-python",
   "name": "python",
   "nbconvert_exporter": "python",
   "pygments_lexer": "ipython3",
   "version": "3.12.4"
  }
 },
 "nbformat": 4,
 "nbformat_minor": 5
}
