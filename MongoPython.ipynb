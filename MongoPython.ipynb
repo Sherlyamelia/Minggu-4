{
 "cells": [
  {
   "cell_type": "code",
   "execution_count": 3,
   "id": "73281f95-16b0-45d4-a72f-c344f20a2f0c",
   "metadata": {},
   "outputs": [
    {
     "name": "stdout",
     "output_type": "stream",
     "text": [
      "Collecting pymongo\n",
      "  Downloading pymongo-4.10.1-cp312-cp312-win_amd64.whl.metadata (22 kB)\n",
      "Collecting dnspython<3.0.0,>=1.16.0 (from pymongo)\n",
      "  Downloading dnspython-2.6.1-py3-none-any.whl.metadata (5.8 kB)\n",
      "Downloading pymongo-4.10.1-cp312-cp312-win_amd64.whl (926 kB)\n",
      "   ---------------------------------------- 0.0/926.7 kB ? eta -:--:--\n",
      "   ---------------------------------------- 0.0/926.7 kB ? eta -:--:--\n",
      "   ---------------------------------------- 0.0/926.7 kB ? eta -:--:--\n",
      "   ---------------------------------------- 0.0/926.7 kB ? eta -:--:--\n",
      "   ----------- ---------------------------- 262.1/926.7 kB ? eta -:--:--\n",
      "   ----------- ---------------------------- 262.1/926.7 kB ? eta -:--:--\n",
      "   ----------- ---------------------------- 262.1/926.7 kB ? eta -:--:--\n",
      "   ----------- ---------------------------- 262.1/926.7 kB ? eta -:--:--\n",
      "   ----------- ---------------------------- 262.1/926.7 kB ? eta -:--:--\n",
      "   ----------- ---------------------------- 262.1/926.7 kB ? eta -:--:--\n",
      "   ----------- ---------------------------- 262.1/926.7 kB ? eta -:--:--\n",
      "   ----------- ---------------------------- 262.1/926.7 kB ? eta -:--:--\n",
      "   ----------- ---------------------------- 262.1/926.7 kB ? eta -:--:--\n",
      "   ----------- ---------------------------- 262.1/926.7 kB ? eta -:--:--\n",
      "   ----------- ---------------------------- 262.1/926.7 kB ? eta -:--:--\n",
      "   ----------- ---------------------------- 262.1/926.7 kB ? eta -:--:--\n",
      "   ----------- ---------------------------- 262.1/926.7 kB ? eta -:--:--\n",
      "   ----------- ---------------------------- 262.1/926.7 kB ? eta -:--:--\n",
      "   ----------- ---------------------------- 262.1/926.7 kB ? eta -:--:--\n",
      "   ----------- ---------------------------- 262.1/926.7 kB ? eta -:--:--\n",
      "   ----------- ---------------------------- 262.1/926.7 kB ? eta -:--:--\n",
      "   ----------- ---------------------------- 262.1/926.7 kB ? eta -:--:--\n",
      "   ----------- ---------------------------- 262.1/926.7 kB ? eta -:--:--\n",
      "   ----------- ---------------------------- 262.1/926.7 kB ? eta -:--:--\n",
      "   ----------- ---------------------------- 262.1/926.7 kB ? eta -:--:--\n",
      "   ----------- ---------------------------- 262.1/926.7 kB ? eta -:--:--\n",
      "   ----------- ---------------------------- 262.1/926.7 kB ? eta -:--:--\n",
      "   ----------- ---------------------------- 262.1/926.7 kB ? eta -:--:--\n",
      "   ----------- ---------------------------- 262.1/926.7 kB ? eta -:--:--\n",
      "   ----------- ---------------------------- 262.1/926.7 kB ? eta -:--:--\n",
      "   ----------- ---------------------------- 262.1/926.7 kB ? eta -:--:--\n",
      "   ----------- ---------------------------- 262.1/926.7 kB ? eta -:--:--\n",
      "   ----------- ---------------------------- 262.1/926.7 kB ? eta -:--:--\n",
      "   ----------- ---------------------------- 262.1/926.7 kB ? eta -:--:--\n",
      "   ----------- ---------------------------- 262.1/926.7 kB ? eta -:--:--\n",
      "   ----------- ---------------------------- 262.1/926.7 kB ? eta -:--:--\n",
      "   ----------- ---------------------------- 262.1/926.7 kB ? eta -:--:--\n",
      "   ----------- ---------------------------- 262.1/926.7 kB ? eta -:--:--\n",
      "   ----------- ---------------------------- 262.1/926.7 kB ? eta -:--:--\n",
      "   ----------- ---------------------------- 262.1/926.7 kB ? eta -:--:--\n",
      "   ----------- ---------------------------- 262.1/926.7 kB ? eta -:--:--\n",
      "   ----------- ---------------------------- 262.1/926.7 kB ? eta -:--:--\n",
      "   ----------- ---------------------------- 262.1/926.7 kB ? eta -:--:--\n",
      "   ----------- ---------------------------- 262.1/926.7 kB ? eta -:--:--\n",
      "   ----------- ---------------------------- 262.1/926.7 kB ? eta -:--:--\n",
      "   ----------- ---------------------------- 262.1/926.7 kB ? eta -:--:--\n",
      "   ----------- ---------------------------- 262.1/926.7 kB ? eta -:--:--\n",
      "   ----------- ---------------------------- 262.1/926.7 kB ? eta -:--:--\n",
      "   ----------- ---------------------------- 262.1/926.7 kB ? eta -:--:--\n",
      "   ----------- ---------------------------- 262.1/926.7 kB ? eta -:--:--\n",
      "   ----------- ---------------------------- 262.1/926.7 kB ? eta -:--:--\n",
      "   ----------- ---------------------------- 262.1/926.7 kB ? eta -:--:--\n",
      "   ----------- ---------------------------- 262.1/926.7 kB ? eta -:--:--\n",
      "   ----------- ---------------------------- 262.1/926.7 kB ? eta -:--:--\n",
      "   ----------- ---------------------------- 262.1/926.7 kB ? eta -:--:--\n",
      "   ----------- ---------------------------- 262.1/926.7 kB ? eta -:--:--\n",
      "   ----------- ---------------------------- 262.1/926.7 kB ? eta -:--:--\n",
      "   ---------------------- ---------------- 524.3/926.7 kB 23.1 kB/s eta 0:00:18\n",
      "   ---------------------- ---------------- 524.3/926.7 kB 23.1 kB/s eta 0:00:18\n",
      "   ---------------------- ---------------- 524.3/926.7 kB 23.1 kB/s eta 0:00:18\n",
      "   ---------------------- ---------------- 524.3/926.7 kB 23.1 kB/s eta 0:00:18\n",
      "   ---------------------- ---------------- 524.3/926.7 kB 23.1 kB/s eta 0:00:18\n",
      "   ---------------------- ---------------- 524.3/926.7 kB 23.1 kB/s eta 0:00:18\n",
      "   ---------------------- ---------------- 524.3/926.7 kB 23.1 kB/s eta 0:00:18\n",
      "   ---------------------- ---------------- 524.3/926.7 kB 23.1 kB/s eta 0:00:18\n",
      "   ---------------------- ---------------- 524.3/926.7 kB 23.1 kB/s eta 0:00:18\n",
      "   ---------------------- ---------------- 524.3/926.7 kB 23.1 kB/s eta 0:00:18\n",
      "   ---------------------- ---------------- 524.3/926.7 kB 23.1 kB/s eta 0:00:18\n",
      "   --------------------------------- ----- 786.4/926.7 kB 38.2 kB/s eta 0:00:04\n",
      "   --------------------------------- ----- 786.4/926.7 kB 38.2 kB/s eta 0:00:04\n",
      "   --------------------------------- ----- 786.4/926.7 kB 38.2 kB/s eta 0:00:04\n",
      "   --------------------------------- ----- 786.4/926.7 kB 38.2 kB/s eta 0:00:04\n",
      "   --------------------------------------- 926.7/926.7 kB 45.5 kB/s eta 0:00:00\n",
      "Downloading dnspython-2.6.1-py3-none-any.whl (307 kB)\n",
      "Installing collected packages: dnspython, pymongo\n",
      "Successfully installed dnspython-2.6.1 pymongo-4.10.1\n",
      "Note: you may need to restart the kernel to use updated packages.\n"
     ]
    }
   ],
   "source": [
    "pip install pymongo"
   ]
  },
  {
   "cell_type": "code",
   "execution_count": 68,
   "id": "d190b498-c266-4e1c-9fdc-9a41d33a15ef",
   "metadata": {},
   "outputs": [
    {
     "name": "stdout",
     "output_type": "stream",
     "text": [
      "{'_id': ObjectId('66fe3da44d519715eef1e9c7'), 'name': 'Sherly', 'email': 'sherly@gmail.com', 'age': 20}\n",
      "{'_id': ObjectId('66fe3dc84d519715eef1e9c9'), 'name': 'Amelia', 'email': 'amelia@gmail.com', 'age': 23}\n",
      "{'_id': ObjectId('66fe3de44d519715eef1e9cb'), 'name': 'Putri', 'email': 'putri@gmail.com', 'age': 25}\n",
      "{'_id': ObjectId('66fe3e174d519715eef1e9cd'), 'name': 'Anggun Putri', 'email': 'anggunp@gmail.com', 'age': 31}\n",
      "{'_id': ObjectId('66fe3e2f4d519715eef1e9cf'), 'name': 'Vina Muliana', 'email': 'vinapu@gmail.com', 'age': 27}\n",
      "{'_id': ObjectId('66fe3e4d4d519715eef1e9d1'), 'name': 'Bagus Khafi', 'email': 'khafi@gmail.com', 'age': 23}\n",
      "{'_id': ObjectId('66fe3e614d519715eef1e9d3'), 'name': 'Jameela', 'email': 'mulan@gmail.com', 'age': 26}\n",
      "{'_id': ObjectId('66fe3e774d519715eef1e9d5'), 'name': 'Dian Andini', 'email': 'andini@gmail.com', 'age': 22}\n",
      "{'_id': ObjectId('66fe3e974d519715eef1e9d7'), 'name': 'Muhammad Zain', 'email': 'zaingmail.com', 'age': 25}\n",
      "{'_id': ObjectId('66fe3eb14d519715eef1e9d9'), 'name': 'Tugabus Arya', 'email': 'arya@gmail.com', 'age': 20}\n",
      "{'_id': ObjectId('66fe479d2e15999d56e64f98'), 'name': 'Shirley', 'email': 'shirley@gmail.com', 'age': 21}\n"
     ]
    }
   ],
   "source": [
    "#LIHAT DATA\n",
    "from pymongo import MongoClient\n",
    "\n",
    "# Koneksi ke MongoDB\n",
    "client = MongoClient(\"mongodb://localhost:27017/\")  # Pastikan MongoDB berjalan secara lokal di port 27017\n",
    "\n",
    "# Pilih database\n",
    "db = client[\"mydatabase\"]  # Ganti dengan nama database Anda\n",
    "\n",
    "# Pilih collection\n",
    "collection = db[\"user\"]  # Ganti dengan nama koleksi yang ingin dibuka\n",
    "\n",
    "# Menampilkan isi collection\n",
    "documents = collection.find()  # Mengambil semua dokumen dari koleksi\n",
    "\n",
    "# Menampilkan isi dokumen\n",
    "for doc in documents:\n",
    "    print(doc)\n",
    "\n",
    "# Menutup koneksi\n",
    "client.close()"
   ]
  },
  {
   "cell_type": "code",
   "execution_count": 46,
   "id": "59b62ede-88d7-4602-b95d-9b35866c0009",
   "metadata": {},
   "outputs": [
    {
     "name": "stdout",
     "output_type": "stream",
     "text": [
      "Data berhasil ditambahkan dengan ID: 66fe479d2e15999d56e64f98\n"
     ]
    }
   ],
   "source": [
    "#TAMBAH DATA\n",
    "from pymongo import MongoClient\n",
    "\n",
    "# Koneksi ke MongoDB\n",
    "client = MongoClient(\"mongodb://localhost:27017/\")  # Ubah sesuai dengan host MongoDB Anda\n",
    "\n",
    "# Pilih database\n",
    "db = client[\"mydatabase\"]  # Ganti dengan nama database Anda\n",
    "\n",
    "# Pilih collection\n",
    "collection = db[\"user\"]  # Ganti dengan nama koleksi Anda\n",
    "\n",
    "# Data yang ingin ditambahkan\n",
    "data_baru = {\n",
    "    \"name\": \"David\",\n",
    "    \"email\": \"david@gmail.com\",\n",
    "    \"age\": 25\n",
    "}\n",
    "# Menambahkan data ke collection\n",
    "insert_result = collection.insert_one(data_baru)\n",
    "\n",
    "# Menampilkan ID dokumen yang baru ditambahkan\n",
    "print(f\"Data berhasil ditambahkan dengan ID: {insert_result.inserted_id}\")\n",
    "\n",
    "# Menutup koneksi\n",
    "client.close()"
   ]
  },
  {
   "cell_type": "code",
   "execution_count": 64,
   "id": "0222ec8c-619b-4215-ab97-6b204d72eb4b",
   "metadata": {},
   "outputs": [
    {
     "name": "stdout",
     "output_type": "stream",
     "text": [
      "1 dokumen berhasil diupdate.\n"
     ]
    }
   ],
   "source": [
    "#UPDATE DATA\n",
    "from pymongo import MongoClient\n",
    "\n",
    "# Koneksi ke MongoDB\n",
    "client = MongoClient(\"mongodb://localhost:27017/\")  # Ubah sesuai dengan host MongoDB Anda\n",
    "\n",
    "# Pilih database\n",
    "db = client[\"mydatabase\"]  # Ganti dengan nama database Anda\n",
    "\n",
    "# Pilih collection\n",
    "collection = db[\"user\"]  # Ganti dengan nama koleksi Anda\n",
    "\n",
    "# Kriteria data yang ingin diedit (misalnya berdasarkan nama)\n",
    "kriteria = {\"name\": \"David\"}\n",
    "\n",
    "# Data baru yang ingin diupdate\n",
    "data_baru = {\n",
    "    \"$set\": {\n",
    "        \"name\": \"Shirley\",\n",
    "        \"email\": \"shirley@gmail.com\",\n",
    "        \"age\": 21\n",
    "    }\n",
    "}\n",
    "\n",
    "# Melakukan update data\n",
    "update_result = collection.update_one(kriteria, data_baru)\n",
    "\n",
    "# Menampilkan hasil\n",
    "if update_result.matched_count > 0:\n",
    "    print(f\"{update_result.modified_count} dokumen berhasil diupdate.\")\n",
    "else:\n",
    "    print(\"Tidak ada data yang cocok untuk diupdate.\")\n",
    "\n",
    "# Menutup koneksi\n",
    "client.close()\n"
   ]
  },
  {
   "cell_type": "code",
   "execution_count": 72,
   "id": "96bc216c-f374-4a34-86eb-1e539e667f8d",
   "metadata": {},
   "outputs": [
    {
     "name": "stdout",
     "output_type": "stream",
     "text": [
      "Dokumen berhasil dihapus.\n"
     ]
    }
   ],
   "source": [
    "#HAPUS DATA\n",
    "from pymongo import MongoClient\n",
    "\n",
    "# Koneksi ke MongoDB\n",
    "client = MongoClient(\"mongodb://localhost:27017/\")  # Ubah sesuai dengan host MongoDB Anda\n",
    "\n",
    "# Pilih database\n",
    "db = client[\"mydatabase\"]  # Ganti dengan nama database Anda\n",
    "\n",
    "# Pilih collection\n",
    "collection = db[\"user\"]  # Ganti dengan nama koleksi Anda\n",
    "\n",
    "# Kriteria data yang ingin dihapus (misalnya berdasarkan nama)\n",
    "kriteria = {\"name\": \"Tugabus Arya\"}\n",
    "\n",
    "# Menghapus satu data yang sesuai dengan kriteria\n",
    "delete_result = collection.delete_one(kriteria)\n",
    "\n",
    "# Menampilkan hasil\n",
    "if delete_result.deleted_count > 0:\n",
    "    print(\"Dokumen berhasil dihapus.\")\n",
    "else:\n",
    "    print(\"Tidak ada data yang cocok untuk dihapus.\")\n",
    "\n",
    "# Menutup koneksi\n",
    "client.close()\n"
   ]
  },
  {
   "cell_type": "code",
   "execution_count": null,
   "id": "6b527a01-3399-42e3-bd47-0a18b611e89f",
   "metadata": {},
   "outputs": [],
   "source": []
  }
 ],
 "metadata": {
  "kernelspec": {
   "display_name": "Python 3 (ipykernel)",
   "language": "python",
   "name": "python3"
  },
  "language_info": {
   "codemirror_mode": {
    "name": "ipython",
    "version": 3
   },
   "file_extension": ".py",
   "mimetype": "text/x-python",
   "name": "python",
   "nbconvert_exporter": "python",
   "pygments_lexer": "ipython3",
   "version": "3.12.4"
  }
 },
 "nbformat": 4,
 "nbformat_minor": 5
}
