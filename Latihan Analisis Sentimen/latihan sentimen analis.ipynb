{
 "cells": [
  {
   "cell_type": "code",
   "execution_count": 1,
   "id": "355e420e-46d0-44ea-a121-c369a1a1f670",
   "metadata": {},
   "outputs": [
    {
     "name": "stdout",
     "output_type": "stream",
     "text": [
      "Requirement already satisfied: pandas in c:\\users\\asus\\anaconda3\\lib\\site-packages (2.2.2)\n",
      "Requirement already satisfied: scikit-learn in c:\\users\\asus\\anaconda3\\lib\\site-packages (1.4.2)\n",
      "Requirement already satisfied: nltk in c:\\users\\asus\\anaconda3\\lib\\site-packages (3.8.1)\n",
      "Collecting sastrawi\n",
      "  Downloading Sastrawi-1.0.1-py2.py3-none-any.whl.metadata (909 bytes)\n",
      "Requirement already satisfied: numpy>=1.26.0 in c:\\users\\asus\\anaconda3\\lib\\site-packages (from pandas) (1.26.4)\n",
      "Requirement already satisfied: python-dateutil>=2.8.2 in c:\\users\\asus\\anaconda3\\lib\\site-packages (from pandas) (2.9.0.post0)\n",
      "Requirement already satisfied: pytz>=2020.1 in c:\\users\\asus\\anaconda3\\lib\\site-packages (from pandas) (2024.1)\n",
      "Requirement already satisfied: tzdata>=2022.7 in c:\\users\\asus\\anaconda3\\lib\\site-packages (from pandas) (2023.3)\n",
      "Requirement already satisfied: scipy>=1.6.0 in c:\\users\\asus\\anaconda3\\lib\\site-packages (from scikit-learn) (1.13.1)\n",
      "Requirement already satisfied: joblib>=1.2.0 in c:\\users\\asus\\anaconda3\\lib\\site-packages (from scikit-learn) (1.4.2)\n",
      "Requirement already satisfied: threadpoolctl>=2.0.0 in c:\\users\\asus\\anaconda3\\lib\\site-packages (from scikit-learn) (2.2.0)\n",
      "Requirement already satisfied: click in c:\\users\\asus\\anaconda3\\lib\\site-packages (from nltk) (8.1.7)\n",
      "Requirement already satisfied: regex>=2021.8.3 in c:\\users\\asus\\anaconda3\\lib\\site-packages (from nltk) (2023.10.3)\n",
      "Requirement already satisfied: tqdm in c:\\users\\asus\\anaconda3\\lib\\site-packages (from nltk) (4.66.4)\n",
      "Requirement already satisfied: six>=1.5 in c:\\users\\asus\\anaconda3\\lib\\site-packages (from python-dateutil>=2.8.2->pandas) (1.16.0)\n",
      "Requirement already satisfied: colorama in c:\\users\\asus\\anaconda3\\lib\\site-packages (from click->nltk) (0.4.6)\n",
      "Downloading Sastrawi-1.0.1-py2.py3-none-any.whl (209 kB)\n",
      "   ---------------------------------------- 0.0/209.7 kB ? eta -:--:--\n",
      "   ---------------------------------------- 0.0/209.7 kB ? eta -:--:--\n",
      "   ---------------------------------------- 0.0/209.7 kB ? eta -:--:--\n",
      "   ---------------------------------------- 0.0/209.7 kB ? eta -:--:--\n",
      "   ---------------------------------------- 0.0/209.7 kB ? eta -:--:--\n",
      "   - -------------------------------------- 10.2/209.7 kB ? eta -:--:--\n",
      "   - -------------------------------------- 10.2/209.7 kB ? eta -:--:--\n",
      "   - -------------------------------------- 10.2/209.7 kB ? eta -:--:--\n",
      "   - -------------------------------------- 10.2/209.7 kB ? eta -:--:--\n",
      "   ----- --------------------------------- 30.7/209.7 kB 109.5 kB/s eta 0:00:02\n",
      "   ----- --------------------------------- 30.7/209.7 kB 109.5 kB/s eta 0:00:02\n",
      "   ----- --------------------------------- 30.7/209.7 kB 109.5 kB/s eta 0:00:02\n",
      "   ----- --------------------------------- 30.7/209.7 kB 109.5 kB/s eta 0:00:02\n",
      "   ------- -------------------------------- 41.0/209.7 kB 89.3 kB/s eta 0:00:02\n",
      "   ------- -------------------------------- 41.0/209.7 kB 89.3 kB/s eta 0:00:02\n",
      "   ------- -------------------------------- 41.0/209.7 kB 89.3 kB/s eta 0:00:02\n",
      "   ----------- --------------------------- 61.4/209.7 kB 105.8 kB/s eta 0:00:02\n",
      "   ----------- --------------------------- 61.4/209.7 kB 105.8 kB/s eta 0:00:02\n",
      "   ----------- --------------------------- 61.4/209.7 kB 105.8 kB/s eta 0:00:02\n",
      "   ----------- --------------------------- 61.4/209.7 kB 105.8 kB/s eta 0:00:02\n",
      "   --------------- ----------------------- 81.9/209.7 kB 109.3 kB/s eta 0:00:02\n",
      "   --------------- ----------------------- 81.9/209.7 kB 109.3 kB/s eta 0:00:02\n",
      "   ----------------- --------------------- 92.2/209.7 kB 104.9 kB/s eta 0:00:02\n",
      "   ----------------- --------------------- 92.2/209.7 kB 104.9 kB/s eta 0:00:02\n",
      "   ----------------- --------------------- 92.2/209.7 kB 104.9 kB/s eta 0:00:02\n",
      "   ----------------- --------------------- 92.2/209.7 kB 104.9 kB/s eta 0:00:02\n",
      "   ----------------- --------------------- 92.2/209.7 kB 104.9 kB/s eta 0:00:02\n",
      "   -------------------- ----------------- 112.6/209.7 kB 100.9 kB/s eta 0:00:01\n",
      "   -------------------- ----------------- 112.6/209.7 kB 100.9 kB/s eta 0:00:01\n",
      "   -------------------- ----------------- 112.6/209.7 kB 100.9 kB/s eta 0:00:01\n",
      "   ---------------------- ---------------- 122.9/209.7 kB 97.4 kB/s eta 0:00:01\n",
      "   ---------------------- ---------------- 122.9/209.7 kB 97.4 kB/s eta 0:00:01\n",
      "   ---------------------- ---------------- 122.9/209.7 kB 97.4 kB/s eta 0:00:01\n",
      "   ---------------------- ---------------- 122.9/209.7 kB 97.4 kB/s eta 0:00:01\n",
      "   ---------------------- ---------------- 122.9/209.7 kB 97.4 kB/s eta 0:00:01\n",
      "   ---------------------- ---------------- 122.9/209.7 kB 97.4 kB/s eta 0:00:01\n",
      "   ---------------------- ---------------- 122.9/209.7 kB 97.4 kB/s eta 0:00:01\n",
      "   ---------------------- ---------------- 122.9/209.7 kB 97.4 kB/s eta 0:00:01\n",
      "   ---------------------- ---------------- 122.9/209.7 kB 97.4 kB/s eta 0:00:01\n",
      "   ---------------------- ---------------- 122.9/209.7 kB 97.4 kB/s eta 0:00:01\n",
      "   ---------------------- ---------------- 122.9/209.7 kB 97.4 kB/s eta 0:00:01\n",
      "   ---------------------- ---------------- 122.9/209.7 kB 97.4 kB/s eta 0:00:01\n",
      "   ---------------------- ---------------- 122.9/209.7 kB 97.4 kB/s eta 0:00:01\n",
      "   ---------------------- ---------------- 122.9/209.7 kB 97.4 kB/s eta 0:00:01\n",
      "   -------------------------- ------------ 143.4/209.7 kB 74.7 kB/s eta 0:00:01\n",
      "   -------------------------- ------------ 143.4/209.7 kB 74.7 kB/s eta 0:00:01\n",
      "   -------------------------- ------------ 143.4/209.7 kB 74.7 kB/s eta 0:00:01\n",
      "   -------------------------- ------------ 143.4/209.7 kB 74.7 kB/s eta 0:00:01\n",
      "   ------------------------------ -------- 163.8/209.7 kB 77.4 kB/s eta 0:00:01\n",
      "   ------------------------------ -------- 163.8/209.7 kB 77.4 kB/s eta 0:00:01\n",
      "   ------------------------------ -------- 163.8/209.7 kB 77.4 kB/s eta 0:00:01\n",
      "   -------------------------------- ------ 174.1/209.7 kB 78.2 kB/s eta 0:00:01\n",
      "   -------------------------------- ------ 174.1/209.7 kB 78.2 kB/s eta 0:00:01\n",
      "   -------------------------------- ------ 174.1/209.7 kB 78.2 kB/s eta 0:00:01\n",
      "   -------------------------------- ------ 174.1/209.7 kB 78.2 kB/s eta 0:00:01\n",
      "   -------------------------------- ------ 174.1/209.7 kB 78.2 kB/s eta 0:00:01\n",
      "   -------------------------------- ------ 174.1/209.7 kB 78.2 kB/s eta 0:00:01\n",
      "   -------------------------------- ------ 174.1/209.7 kB 78.2 kB/s eta 0:00:01\n",
      "   -------------------------------- ------ 174.1/209.7 kB 78.2 kB/s eta 0:00:01\n",
      "   -------------------------------- ------ 174.1/209.7 kB 78.2 kB/s eta 0:00:01\n",
      "   -------------------------------- ------ 174.1/209.7 kB 78.2 kB/s eta 0:00:01\n",
      "   -------------------------------- ------ 174.1/209.7 kB 78.2 kB/s eta 0:00:01\n",
      "   -------------------------------- ------ 174.1/209.7 kB 78.2 kB/s eta 0:00:01\n",
      "   -------------------------------- ------ 174.1/209.7 kB 78.2 kB/s eta 0:00:01\n",
      "   -------------------------------- ------ 174.1/209.7 kB 78.2 kB/s eta 0:00:01\n",
      "   -------------------------------- ------ 174.1/209.7 kB 78.2 kB/s eta 0:00:01\n",
      "   -------------------------------- ------ 174.1/209.7 kB 78.2 kB/s eta 0:00:01\n",
      "   -------------------------------- ------ 174.1/209.7 kB 78.2 kB/s eta 0:00:01\n",
      "   -------------------------------- ------ 174.1/209.7 kB 78.2 kB/s eta 0:00:01\n",
      "   -------------------------------- ------ 174.1/209.7 kB 78.2 kB/s eta 0:00:01\n",
      "   -------------------------------- ------ 174.1/209.7 kB 78.2 kB/s eta 0:00:01\n",
      "   -------------------------------- ------ 174.1/209.7 kB 78.2 kB/s eta 0:00:01\n",
      "   -------------------------------- ------ 174.1/209.7 kB 78.2 kB/s eta 0:00:01\n",
      "   -------------------------------- ------ 174.1/209.7 kB 78.2 kB/s eta 0:00:01\n",
      "   -------------------------------- ------ 174.1/209.7 kB 78.2 kB/s eta 0:00:01\n",
      "   -------------------------------- ------ 174.1/209.7 kB 78.2 kB/s eta 0:00:01\n",
      "   -------------------------------- ------ 174.1/209.7 kB 78.2 kB/s eta 0:00:01\n",
      "   -------------------------------- ------ 174.1/209.7 kB 78.2 kB/s eta 0:00:01\n",
      "   -------------------------------- ------ 174.1/209.7 kB 78.2 kB/s eta 0:00:01\n",
      "   -------------------------------- ------ 174.1/209.7 kB 78.2 kB/s eta 0:00:01\n",
      "   -------------------------------- ------ 174.1/209.7 kB 78.2 kB/s eta 0:00:01\n",
      "   -------------------------------- ------ 174.1/209.7 kB 78.2 kB/s eta 0:00:01\n",
      "   -------------------------------- ------ 174.1/209.7 kB 78.2 kB/s eta 0:00:01\n",
      "   -------------------------------- ------ 174.1/209.7 kB 78.2 kB/s eta 0:00:01\n",
      "   -------------------------------- ------ 174.1/209.7 kB 78.2 kB/s eta 0:00:01\n",
      "   ------------------------------------ -- 194.6/209.7 kB 50.0 kB/s eta 0:00:01\n",
      "   ------------------------------------ -- 194.6/209.7 kB 50.0 kB/s eta 0:00:01\n",
      "   ------------------------------------ -- 194.6/209.7 kB 50.0 kB/s eta 0:00:01\n",
      "   --------------------------------------  204.8/209.7 kB 50.4 kB/s eta 0:00:01\n",
      "   --------------------------------------- 209.7/209.7 kB 51.5 kB/s eta 0:00:00\n",
      "Installing collected packages: sastrawi\n",
      "Successfully installed sastrawi-1.0.1\n",
      "Note: you may need to restart the kernel to use updated packages.\n"
     ]
    }
   ],
   "source": [
    "pip install pandas scikit-learn nltk sastrawi"
   ]
  },
  {
   "cell_type": "code",
   "execution_count": 1,
   "id": "8988bd69-0293-44de-8ae8-94cb3b70442b",
   "metadata": {},
   "outputs": [
    {
     "name": "stdout",
     "output_type": "stream",
     "text": [
      "                                             text    label\n",
      "0                Saya sangat menyukai produk ini!  positif\n",
      "1  Ini adalah hal terburuk yang pernah saya beli.  negatif\n",
      "2       Saya sangat senang dengan pembelian saya.  positif\n",
      "3                          Saya benci barang ini.  negatif\n",
      "4                                 Ini luar biasa!  positif\n",
      "5                Saya tidak suka ini sama sekali.  negatif\n",
      "6              Pengalaman yang sangat luar biasa.  positif\n",
      "7      Tidak sesuai harapan, sangat mengecewakan.  negatif\n",
      "8     Kualitas produk sangat bagus dan saya puas!  positif\n",
      "9       Barang ini sangat buruk dan mengecewakan.  negatif\n"
     ]
    }
   ],
   "source": [
    "import pandas as pd\n",
    "\n",
    "# Buat dataset sederhana\n",
    "data = {\n",
    "    'text': [\n",
    "        'Saya sangat menyukai produk ini!', \n",
    "        'Ini adalah hal terburuk yang pernah saya beli.', \n",
    "        'Saya sangat senang dengan pembelian saya.', \n",
    "        'Saya benci barang ini.', \n",
    "        'Ini luar biasa!', \n",
    "        'Saya tidak suka ini sama sekali.', \n",
    "        'Pengalaman yang sangat luar biasa.', \n",
    "        'Tidak sesuai harapan, sangat mengecewakan.',\n",
    "        'Kualitas produk sangat bagus dan saya puas!',\n",
    "        'Barang ini sangat buruk dan mengecewakan.'\n",
    "    ],\n",
    "    'label': ['positif', 'negatif', 'positif', 'negatif', 'positif', 'negatif', 'positif', 'negatif', 'positif', 'negatif']\n",
    "}\n",
    "\n",
    "df = pd.DataFrame(data)\n",
    "print(df)"
   ]
  },
  {
   "cell_type": "code",
   "execution_count": 7,
   "id": "18959a76-6d8c-46b2-a021-dfab1401e51c",
   "metadata": {},
   "outputs": [
    {
     "name": "stdout",
     "output_type": "stream",
     "text": [
      "Requirement already satisfied: sastrawi in c:\\users\\asus\\anaconda3\\lib\\site-packages (1.0.1)\n",
      "Note: you may need to restart the kernel to use updated packages.\n"
     ]
    }
   ],
   "source": [
    "pip install sastrawi"
   ]
  },
  {
   "cell_type": "code",
   "execution_count": 15,
   "id": "08bd0982-2854-4ccb-b097-fda656fd9a33",
   "metadata": {},
   "outputs": [
    {
     "name": "stderr",
     "output_type": "stream",
     "text": [
      "[nltk_data] Downloading package stopwords to\n",
      "[nltk_data]     C:\\Users\\asus\\AppData\\Roaming\\nltk_data...\n",
      "[nltk_data]   Package stopwords is already up-to-date!\n"
     ]
    },
    {
     "name": "stdout",
     "output_type": "stream",
     "text": [
      "                                             text                cleaned_text\n",
      "0                Saya sangat menyukai produk ini!                 suka produk\n",
      "1  Ini adalah hal terburuk yang pernah saya beli.                  buruk beli\n",
      "2       Saya sangat senang dengan pembelian saya.                 senang beli\n",
      "3                          Saya benci barang ini.                benci barang\n",
      "4                                 Ini luar biasa!                            \n",
      "5                Saya tidak suka ini sama sekali.                        suka\n",
      "6              Pengalaman yang sangat luar biasa.                        alam\n",
      "7      Tidak sesuai harapan, sangat mengecewakan.         sesuai harap kecewa\n",
      "8     Kualitas produk sangat bagus dan saya puas!  kualitas produk bagus puas\n",
      "9       Barang ini sangat buruk dan mengecewakan.         barang buruk kecewa\n"
     ]
    }
   ],
   "source": [
    "import string\n",
    "from Sastrawi.Stemmer.StemmerFactory import StemmerFactory\n",
    "factory = StemmerFactory()\n",
    "stemmer = factory.create_stemmer()\n",
    "from nltk.corpus import stopwords\n",
    "import nltk\n",
    "nltk.download('stopwords') #inisialisasi stemmer sastrawi\n",
    "def preprocess_text(text):\n",
    "    text = text.lower() #mengubah teks ke huruf kecil\n",
    "    text = text.translate(str.maketrans('', '', string.punctuation)) #Menghapus tanda baca\n",
    "    text = ' '.join(stemmer.stem(word) for word in text.split()) #stemming\n",
    "    stop_words = set(stopwords.words('indonesian')) #menghapus stopwords\n",
    "    text = ' '.join(word for word in text.split() if word not in stop_words)\n",
    "    return text\n",
    "#terapkan preprocessing\n",
    "df['cleaned_text'] = df['text'].apply(preprocess_text)\n",
    "print(df[['text', 'cleaned_text']])"
   ]
  },
  {
   "cell_type": "code",
   "execution_count": 21,
   "id": "1225f93e-2c58-40be-ad02-8b9753d6157a",
   "metadata": {},
   "outputs": [
    {
     "name": "stdout",
     "output_type": "stream",
     "text": [
      "['alam' 'bagus' 'barang' 'beli' 'benci' 'buruk' 'harap' 'kecewa'\n",
      " 'kualitas' 'produk' 'puas' 'senang' 'sesuai' 'suka']\n",
      "[[0.         0.         0.         0.         0.         0.\n",
      "  0.         0.         0.         0.70710678 0.         0.\n",
      "  0.         0.70710678]\n",
      " [0.         0.         0.         0.70710678 0.         0.70710678\n",
      "  0.         0.         0.         0.         0.         0.\n",
      "  0.         0.        ]\n",
      " [0.         0.         0.         0.64768883 0.         0.\n",
      "  0.         0.         0.         0.         0.         0.76190497\n",
      "  0.         0.        ]\n",
      " [0.         0.         0.64768883 0.         0.76190497 0.\n",
      "  0.         0.         0.         0.         0.         0.\n",
      "  0.         0.        ]\n",
      " [0.         0.         0.         0.         0.         0.\n",
      "  0.         0.         0.         0.         0.         0.\n",
      "  0.         0.        ]\n",
      " [0.         0.         0.         0.         0.         0.\n",
      "  0.         0.         0.         0.         0.         0.\n",
      "  0.         1.        ]\n",
      " [1.         0.         0.         0.         0.         0.\n",
      "  0.         0.         0.         0.         0.         0.\n",
      "  0.         0.        ]\n",
      " [0.         0.         0.         0.         0.         0.\n",
      "  0.60604332 0.51519219 0.         0.         0.         0.\n",
      "  0.60604332 0.        ]\n",
      " [0.         0.5182909  0.         0.         0.         0.\n",
      "  0.         0.         0.5182909  0.44059462 0.5182909  0.\n",
      "  0.         0.        ]\n",
      " [0.         0.         0.57735027 0.         0.         0.57735027\n",
      "  0.         0.57735027 0.         0.         0.         0.\n",
      "  0.         0.        ]]\n",
      "['alam' 'bagus' 'barang' 'beli' 'benci' 'buruk' 'harap' 'kecewa'\n",
      " 'kualitas' 'produk' 'puas' 'senang' 'sesuai' 'suka']\n"
     ]
    }
   ],
   "source": [
    "from sklearn.feature_extraction.text import TfidfVectorizer\n",
    "\n",
    "#Vektorisasi teks\n",
    "vectorizer = TfidfVectorizer()\n",
    "X = vectorizer.fit_transform(df['cleaned_text'])\n",
    "terms = vectorizer.get_feature_names_out()\n",
    "print(terms)\n",
    "#tampilan hasil vektorisasi\n",
    "print(X.toarray()) #hasil vektorisasi dalam bentuk array\n",
    "print(vectorizer.get_feature_names_out()) #fitur yang dihasilkan"
   ]
  },
  {
   "cell_type": "code",
   "execution_count": 25,
   "id": "c7647dc2-6990-4eb9-82bb-191c403e5f4b",
   "metadata": {},
   "outputs": [
    {
     "name": "stdout",
     "output_type": "stream",
     "text": [
      "Train shape: (7, 14), Test shape: (3, 14)\n"
     ]
    }
   ],
   "source": [
    "from sklearn.model_selection import train_test_split\n",
    "\n",
    "# Memisahkan fitur dan label\n",
    "y = df['label']\n",
    "\n",
    "X_train, X_test, y_train, y_test = train_test_split(X, y, test_size=0.25, random_state=42)\n",
    "\n",
    "print(f'Train shape: {X_train.shape}, Test shape: {X_test.shape}')"
   ]
  },
  {
   "cell_type": "code",
   "execution_count": 27,
   "id": "0b8e0630-c339-48b1-8942-53bbd4f48fd3",
   "metadata": {},
   "outputs": [
    {
     "name": "stdout",
     "output_type": "stream",
     "text": [
      "Akurasi Naive Bayes : 0.3333333333333333\n",
      "              precision    recall  f1-score   support\n",
      "\n",
      "     negatif       0.00      0.00      0.00         2\n",
      "     positif       0.33      1.00      0.50         1\n",
      "\n",
      "    accuracy                           0.33         3\n",
      "   macro avg       0.17      0.50      0.25         3\n",
      "weighted avg       0.11      0.33      0.17         3\n",
      "\n"
     ]
    },
    {
     "name": "stderr",
     "output_type": "stream",
     "text": [
      "C:\\Users\\asus\\anaconda3\\Lib\\site-packages\\sklearn\\metrics\\_classification.py:1509: UndefinedMetricWarning: Precision is ill-defined and being set to 0.0 in labels with no predicted samples. Use `zero_division` parameter to control this behavior.\n",
      "  _warn_prf(average, modifier, f\"{metric.capitalize()} is\", len(result))\n",
      "C:\\Users\\asus\\anaconda3\\Lib\\site-packages\\sklearn\\metrics\\_classification.py:1509: UndefinedMetricWarning: Precision is ill-defined and being set to 0.0 in labels with no predicted samples. Use `zero_division` parameter to control this behavior.\n",
      "  _warn_prf(average, modifier, f\"{metric.capitalize()} is\", len(result))\n",
      "C:\\Users\\asus\\anaconda3\\Lib\\site-packages\\sklearn\\metrics\\_classification.py:1509: UndefinedMetricWarning: Precision is ill-defined and being set to 0.0 in labels with no predicted samples. Use `zero_division` parameter to control this behavior.\n",
      "  _warn_prf(average, modifier, f\"{metric.capitalize()} is\", len(result))\n"
     ]
    }
   ],
   "source": [
    "from sklearn.naive_bayes import MultinomialNB\n",
    "from sklearn.metrics import accuracy_score, classification_report\n",
    "\n",
    "nb_model = MultinomialNB()  # Inisialisasi model Naive Bayes\n",
    "nb_model.fit(X_train, y_train)  # Latih model dengan data pelatihan\n",
    "\n",
    "y_pred_nb = nb_model.predict(X_test)  # Prediksi data uji\n",
    "\n",
    "# Tampilkan hasil evaluasi\n",
    "print(\"Akurasi Naive Bayes :\", accuracy_score(y_test, y_pred_nb))\n",
    "print(classification_report(y_test, y_pred_nb))"
   ]
  },
  {
   "cell_type": "code",
   "execution_count": 29,
   "id": "8615890c-b22c-4869-9466-2168922d4089",
   "metadata": {},
   "outputs": [
    {
     "name": "stdout",
     "output_type": "stream",
     "text": [
      "Akurasi Decision Tree: 0.3333333333333333\n",
      "              precision    recall  f1-score   support\n",
      "\n",
      "     negatif       0.00      0.00      0.00         2\n",
      "     positif       0.33      1.00      0.50         1\n",
      "\n",
      "    accuracy                           0.33         3\n",
      "   macro avg       0.17      0.50      0.25         3\n",
      "weighted avg       0.11      0.33      0.17         3\n",
      "\n"
     ]
    },
    {
     "name": "stderr",
     "output_type": "stream",
     "text": [
      "C:\\Users\\asus\\anaconda3\\Lib\\site-packages\\sklearn\\metrics\\_classification.py:1509: UndefinedMetricWarning: Precision is ill-defined and being set to 0.0 in labels with no predicted samples. Use `zero_division` parameter to control this behavior.\n",
      "  _warn_prf(average, modifier, f\"{metric.capitalize()} is\", len(result))\n",
      "C:\\Users\\asus\\anaconda3\\Lib\\site-packages\\sklearn\\metrics\\_classification.py:1509: UndefinedMetricWarning: Precision is ill-defined and being set to 0.0 in labels with no predicted samples. Use `zero_division` parameter to control this behavior.\n",
      "  _warn_prf(average, modifier, f\"{metric.capitalize()} is\", len(result))\n",
      "C:\\Users\\asus\\anaconda3\\Lib\\site-packages\\sklearn\\metrics\\_classification.py:1509: UndefinedMetricWarning: Precision is ill-defined and being set to 0.0 in labels with no predicted samples. Use `zero_division` parameter to control this behavior.\n",
      "  _warn_prf(average, modifier, f\"{metric.capitalize()} is\", len(result))\n"
     ]
    }
   ],
   "source": [
    "from sklearn.tree import DecisionTreeClassifier\n",
    "#membangun model decision tree\n",
    "dt_model = DecisionTreeClassifier()\n",
    "dt_model.fit(X_train, y_train)\n",
    "#memprediksi label untuk data uji\n",
    "y_pred_dt = dt_model.predict(X_test)\n",
    "#evaluasi model\n",
    "print('Akurasi Decision Tree:', accuracy_score(y_test, y_pred_dt))\n",
    "print(classification_report(y_test, y_pred_dt))"
   ]
  },
  {
   "cell_type": "code",
   "execution_count": 33,
   "id": "932c93b3-5256-4853-a9f0-ca387393dfbb",
   "metadata": {},
   "outputs": [
    {
     "name": "stdout",
     "output_type": "stream",
     "text": [
      "Prediksi sentimen (Naive Bayes): positif\n",
      "Prediksi sentimen (Decision Tree): positif\n"
     ]
    }
   ],
   "source": [
    "#FUNGSI UNTUK MEMPREDIKSI SENTIMEN DARI TEKS BARU\n",
    "def predict_sentiment(text, model, vectorizer):\n",
    "    cleaned_text = preprocess_text(text)\n",
    "    text_vector = vectorizer.transform([cleaned_text])\n",
    "    prediction = model.predict(text_vector)\n",
    "    return prediction[0]\n",
    "\n",
    "#contoh prediksi\n",
    "new_text = 'Saya sangat puas dengan produk ini'\n",
    "print('Prediksi sentimen (Naive Bayes):', predict_sentiment(new_text, nb_model, vectorizer))\n",
    "print('Prediksi sentimen (Decision Tree):', predict_sentiment(new_text, nb_model, vectorizer))"
   ]
  },
  {
   "cell_type": "code",
   "execution_count": 7,
   "id": "87c3d67f-4d11-4aff-b2e6-893d5f023207",
   "metadata": {},
   "outputs": [
    {
     "name": "stdout",
     "output_type": "stream",
     "text": [
      "                                                   Tweet     Label\n",
      "0      warung ini dimiliki oleh pengusaha pabrik tahu...  positive\n",
      "1      mohon ulama lurus dan k212 mmbri hujjah partai...   neutral\n",
      "2      lokasi strategis di jalan sumatera bandung . t...  positive\n",
      "3      betapa bahagia nya diri ini saat unboxing pake...  positive\n",
      "4      duh . jadi mahasiswa jangan sombong dong . kas...  negative\n",
      "...                                                  ...       ...\n",
      "12755  film tncfu , tidak cocok untuk penonton yang t...  negative\n",
      "12756  indihome ini mahal loh bayar nya . hanya , pen...  negative\n",
      "12757  be de gea , cowok cupu yang takut dengan pacar...  negative\n",
      "12758  valen yang sangat tidak berkualitas . konentat...  negative\n",
      "12759  restoran ini menjadi tempat pilihan saya berbu...  positive\n",
      "\n",
      "[12760 rows x 2 columns]\n"
     ]
    }
   ],
   "source": [
    "import pandas as pd\n",
    "data= pd.read_excel('Indonlu_Sentiment.xlsx') \n",
    "df = pd.DataFrame(data)\n",
    "print(df)\n",
    "df['text']=df['Tweet']\n",
    "df['label']=df['Label']"
   ]
  },
  {
   "cell_type": "code",
   "execution_count": null,
   "id": "f9f2bde8-7d60-4e26-8803-22d2d6b9da4f",
   "metadata": {},
   "outputs": [
    {
     "name": "stderr",
     "output_type": "stream",
     "text": [
      "[nltk_data] Downloading package stopwords to\n",
      "[nltk_data]     C:\\Users\\asus\\AppData\\Roaming\\nltk_data...\n",
      "[nltk_data]   Package stopwords is already up-to-date!\n"
     ]
    }
   ],
   "source": [
    "import string\n",
    "from Sastrawi.Stemmer.StemmerFactory import StemmerFactory\n",
    "factory = StemmerFactory()\n",
    "stemmer = factory.create_stemmer()\n",
    "from nltk.corpus import stopwords\n",
    "import nltk\n",
    "nltk.download('stopwords') #inisialisasi stemmer sastrawi\n",
    "def preprocess_text(text):\n",
    "    text = text.lower() #mengubah teks ke huruf kecil\n",
    "    text = text.translate(str.maketrans('', '', string.punctuation)) #Menghapus tanda baca\n",
    "    text = ' '.join(stemmer.stem(word) for word in text.split()) #stemming\n",
    "    stop_words = set(stopwords.words('indonesian')) #menghapus stopwords\n",
    "    text = ' '.join(word for word in text.split() if word not in stop_words)\n",
    "    return text\n",
    "#terapkan preprocessing\n",
    "df['cleaned_text'] = df['text'].apply(preprocess_text)\n",
    "print(df[['text', 'cleaned_text']])"
   ]
  },
  {
   "cell_type": "code",
   "execution_count": null,
   "id": "9c79aea9-08b2-4e63-8091-b61632aa9eed",
   "metadata": {},
   "outputs": [],
   "source": [
    "from sklearn.feature_extraction.text import TfidfVectorizer\n",
    "\n",
    "#Vektorisasi teks\n",
    "vectorizer = TfidfVectorizer()\n",
    "X = vectorizer.fit_transform(df['cleaned_text'])\n",
    "terms = vectorizer.get_feature_names_out()\n",
    "print(terms)\n",
    "#tampilan hasil vektorisasi\n",
    "print(X.toarray()) #hasil vektorisasi dalam bentuk array\n",
    "print(vectorizer.get_feature_names_out()) #fitur yang dihasilkan"
   ]
  },
  {
   "cell_type": "code",
   "execution_count": null,
   "id": "f4fd1f42-6039-471b-8cdb-20c5b0d5289e",
   "metadata": {},
   "outputs": [],
   "source": []
  }
 ],
 "metadata": {
  "kernelspec": {
   "display_name": "Python 3 (ipykernel)",
   "language": "python",
   "name": "python3"
  },
  "language_info": {
   "codemirror_mode": {
    "name": "ipython",
    "version": 3
   },
   "file_extension": ".py",
   "mimetype": "text/x-python",
   "name": "python",
   "nbconvert_exporter": "python",
   "pygments_lexer": "ipython3",
   "version": "3.12.4"
  }
 },
 "nbformat": 4,
 "nbformat_minor": 5
}
