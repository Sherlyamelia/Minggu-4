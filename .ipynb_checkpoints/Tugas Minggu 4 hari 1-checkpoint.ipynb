{
 "cells": [
  {
   "cell_type": "code",
   "execution_count": 1,
   "id": "a3c80c55-47c8-4d40-b879-84e665ff90f3",
   "metadata": {},
   "outputs": [
    {
     "name": "stdout",
     "output_type": "stream",
     "text": [
      "Requirement already satisfied: pandas in c:\\users\\asus\\anaconda3\\lib\\site-packages (2.2.2)\n",
      "Requirement already satisfied: numpy in c:\\users\\asus\\anaconda3\\lib\\site-packages (1.26.4)\n",
      "Requirement already satisfied: matplotlib in c:\\users\\asus\\anaconda3\\lib\\site-packages (3.8.4)\n",
      "Requirement already satisfied: statsmodels in c:\\users\\asus\\anaconda3\\lib\\site-packages (0.14.2)\n",
      "Collecting sklearn\n",
      "  Using cached sklearn-0.0.post12.tar.gz (2.6 kB)\n",
      "  Preparing metadata (setup.py): started\n",
      "  Preparing metadata (setup.py): finished with status 'error'\n",
      "Note: you may need to restart the kernel to use updated packages.\n"
     ]
    },
    {
     "name": "stderr",
     "output_type": "stream",
     "text": [
      "  error: subprocess-exited-with-error\n",
      "  \n",
      "  python setup.py egg_info did not run successfully.\n",
      "  exit code: 1\n",
      "  \n",
      "  [15 lines of output]\n",
      "  The 'sklearn' PyPI package is deprecated, use 'scikit-learn'\n",
      "  rather than 'sklearn' for pip commands.\n",
      "  \n",
      "  Here is how to fix this error in the main use cases:\n",
      "  - use 'pip install scikit-learn' rather than 'pip install sklearn'\n",
      "  - replace 'sklearn' by 'scikit-learn' in your pip requirements files\n",
      "    (requirements.txt, setup.py, setup.cfg, Pipfile, etc ...)\n",
      "  - if the 'sklearn' package is used by one of your dependencies,\n",
      "    it would be great if you take some time to track which package uses\n",
      "    'sklearn' instead of 'scikit-learn' and report it to their issue tracker\n",
      "  - as a last resort, set the environment variable\n",
      "    SKLEARN_ALLOW_DEPRECATED_SKLEARN_PACKAGE_INSTALL=True to avoid this error\n",
      "  \n",
      "  More information is available at\n",
      "  https://github.com/scikit-learn/sklearn-pypi-package\n",
      "  [end of output]\n",
      "  \n",
      "  note: This error originates from a subprocess, and is likely not a problem with pip.\n",
      "error: metadata-generation-failed\n",
      "\n",
      "Encountered error while generating package metadata.\n",
      "\n",
      "See above for output.\n",
      "\n",
      "note: This is an issue with the package mentioned above, not pip.\n",
      "hint: See above for details.\n"
     ]
    }
   ],
   "source": [
    "pip install pandas numpy matplotlib statsmodels sklearn tensorflow"
   ]
  },
  {
   "cell_type": "code",
   "execution_count": 7,
   "id": "afbe0555-65f6-4885-8c87-a915f4926297",
   "metadata": {},
   "outputs": [
    {
     "name": "stdout",
     "output_type": "stream",
     "text": [
      "Perkiraan penjualan bulan berikutnya: 754.3703598853463\n"
     ]
    },
    {
     "name": "stderr",
     "output_type": "stream",
     "text": [
      "C:\\Users\\asus\\AppData\\Local\\Temp\\ipykernel_2752\\1709266137.py:2: UserWarning: Could not infer format, so each element will be parsed individually, falling back to `dateutil`. To ensure parsing is consistent and as-expected, please specify a format.\n",
      "  data = pd.read_csv('sales_data.csv', parse_dates=['Month'], index_col='Month')\n"
     ]
    }
   ],
   "source": [
    "#rata-rata (Average)\n",
    "import pandas as pd\n",
    "data = pd.read_csv('sales_data.csv', parse_dates=['Month'], index_col='Month')\n",
    "forecast = data['Revenue'].mean()\n",
    "print(f\"Perkiraan penjualan bulan berikutnya: {forecast}\")"
   ]
  },
  {
   "cell_type": "code",
   "execution_count": 9,
   "id": "e457eff7-f95e-45d1-92b9-0bccca048a54",
   "metadata": {},
   "outputs": [
    {
     "name": "stdout",
     "output_type": "stream",
     "text": [
      "             Date  Day  Year  Customer_Age       Age_Group Customer_Gender  \\\n",
      "Month                                                                        \n",
      "April  2016-04-12   12  2016            41  Adults (35-64)               M   \n",
      "April  2014-04-02    2  2014            18     Youth (<25)               M   \n",
      "April  2016-04-02    2  2016            18     Youth (<25)               M   \n",
      "March  2014-03-04    4  2014            37  Adults (35-64)               F   \n",
      "March  2016-03-04    4  2016            37  Adults (35-64)               F   \n",
      "\n",
      "              Country          State Product_Category Sub_Category  \\\n",
      "Month                                                                \n",
      "April  United Kingdom        England         Clothing        Vests   \n",
      "April       Australia     Queensland         Clothing        Vests   \n",
      "April       Australia     Queensland         Clothing        Vests   \n",
      "March          France  Seine (Paris)         Clothing        Vests   \n",
      "March          France  Seine (Paris)         Clothing        Vests   \n",
      "\n",
      "               Product  Order_Quantity  Unit_Cost  Unit_Price  Profit  Cost  \\\n",
      "Month                                                                         \n",
      "April  Classic Vest, S               3         24          64     112    72   \n",
      "April  Classic Vest, M              22         24          64     655   528   \n",
      "April  Classic Vest, M              22         24          64     655   528   \n",
      "March  Classic Vest, L              24         24          64     684   576   \n",
      "March  Classic Vest, L              23         24          64     655   552   \n",
      "\n",
      "       Revenue  Moving_Average  \n",
      "Month                           \n",
      "April      184      225.333333  \n",
      "April     1183      578.666667  \n",
      "April     1183      850.000000  \n",
      "March     1260     1208.666667  \n",
      "March     1207     1216.666667  \n"
     ]
    }
   ],
   "source": [
    "#rata-rata bergerak (Moving Average)\n",
    "window = 3  # Rentang waktu untuk rata-rata bergerak\n",
    "data['Moving_Average'] = data['Revenue'].rolling(window=window).mean()\n",
    "print(data.tail())"
   ]
  },
  {
   "cell_type": "code",
   "execution_count": 11,
   "id": "8ec78bcc-1a41-4d9d-8cf5-f15276f2eb1e",
   "metadata": {},
   "outputs": [
    {
     "name": "stderr",
     "output_type": "stream",
     "text": [
      "C:\\Users\\asus\\anaconda3\\Lib\\site-packages\\statsmodels\\tsa\\base\\tsa_model.py:559: UserWarning: Could not infer format, so each element will be parsed individually, falling back to `dateutil`. To ensure parsing is consistent and as-expected, please specify a format.\n",
      "  _index = to_datetime(index)\n",
      "C:\\Users\\asus\\anaconda3\\Lib\\site-packages\\statsmodels\\tsa\\base\\tsa_model.py:473: ValueWarning: An unsupported index was provided and will be ignored when e.g. forecasting.\n",
      "  self._init_dates(dates, freq)\n"
     ]
    },
    {
     "name": "stdout",
     "output_type": "stream",
     "text": [
      "113036    965.283155\n",
      "113037    965.283155\n",
      "113038    965.283155\n",
      "113039    965.283155\n",
      "113040    965.283155\n",
      "113041    965.283155\n",
      "113042    965.283155\n",
      "113043    965.283155\n",
      "113044    965.283155\n",
      "113045    965.283155\n",
      "113046    965.283155\n",
      "113047    965.283155\n",
      "dtype: float64\n"
     ]
    },
    {
     "name": "stderr",
     "output_type": "stream",
     "text": [
      "C:\\Users\\asus\\anaconda3\\Lib\\site-packages\\statsmodels\\tsa\\base\\tsa_model.py:836: ValueWarning: No supported index is available. Prediction results will be given with an integer index beginning at `start`.\n",
      "  return get_prediction_index(\n",
      "C:\\Users\\asus\\anaconda3\\Lib\\site-packages\\statsmodels\\tsa\\base\\tsa_model.py:836: FutureWarning: No supported index is available. In the next version, calling this method in a model without a supported index will result in an exception.\n",
      "  return get_prediction_index(\n"
     ]
    }
   ],
   "source": [
    "#perataan eksponensial (exponential smoothing)\n",
    "from statsmodels.tsa.holtwinters import SimpleExpSmoothing\n",
    "model = SimpleExpSmoothing(data['Revenue'])\n",
    "model_fit = model.fit(smoothing_level=0.2, optimized=False)\n",
    "forecast = model_fit.forecast(steps=12)\n",
    "print(forecast)"
   ]
  },
  {
   "cell_type": "code",
   "execution_count": 13,
   "id": "bdd29c49-e458-42ab-a22c-0e76ac6dbe25",
   "metadata": {},
   "outputs": [
    {
     "name": "stderr",
     "output_type": "stream",
     "text": [
      "C:\\Users\\asus\\anaconda3\\Lib\\site-packages\\statsmodels\\tsa\\base\\tsa_model.py:559: UserWarning: Could not infer format, so each element will be parsed individually, falling back to `dateutil`. To ensure parsing is consistent and as-expected, please specify a format.\n",
      "  _index = to_datetime(index)\n",
      "C:\\Users\\asus\\anaconda3\\Lib\\site-packages\\statsmodels\\tsa\\base\\tsa_model.py:473: ValueWarning: An unsupported index was provided and will be ignored when e.g. forecasting.\n",
      "  self._init_dates(dates, freq)\n",
      "C:\\Users\\asus\\anaconda3\\Lib\\site-packages\\statsmodels\\tsa\\base\\tsa_model.py:559: UserWarning: Could not infer format, so each element will be parsed individually, falling back to `dateutil`. To ensure parsing is consistent and as-expected, please specify a format.\n",
      "  _index = to_datetime(index)\n",
      "C:\\Users\\asus\\anaconda3\\Lib\\site-packages\\statsmodels\\tsa\\base\\tsa_model.py:473: ValueWarning: An unsupported index was provided and will be ignored when e.g. forecasting.\n",
      "  self._init_dates(dates, freq)\n",
      "C:\\Users\\asus\\anaconda3\\Lib\\site-packages\\statsmodels\\tsa\\base\\tsa_model.py:559: UserWarning: Could not infer format, so each element will be parsed individually, falling back to `dateutil`. To ensure parsing is consistent and as-expected, please specify a format.\n",
      "  _index = to_datetime(index)\n",
      "C:\\Users\\asus\\anaconda3\\Lib\\site-packages\\statsmodels\\tsa\\base\\tsa_model.py:473: ValueWarning: An unsupported index was provided and will be ignored when e.g. forecasting.\n",
      "  self._init_dates(dates, freq)\n"
     ]
    },
    {
     "name": "stdout",
     "output_type": "stream",
     "text": [
      "113036    1048.646074\n",
      "113037     985.111246\n",
      "113038    1105.947545\n",
      "113039    1110.486649\n",
      "113040    1116.345592\n",
      "113041    1102.030827\n",
      "113042    1094.934941\n",
      "113043    1083.040251\n",
      "113044    1098.046526\n",
      "113045    1097.652954\n",
      "113046    1099.470999\n",
      "113047    1096.053967\n",
      "Name: predicted_mean, dtype: float64\n"
     ]
    },
    {
     "name": "stderr",
     "output_type": "stream",
     "text": [
      "C:\\Users\\asus\\anaconda3\\Lib\\site-packages\\statsmodels\\tsa\\base\\tsa_model.py:836: ValueWarning: No supported index is available. Prediction results will be given with an integer index beginning at `start`.\n",
      "  return get_prediction_index(\n",
      "C:\\Users\\asus\\anaconda3\\Lib\\site-packages\\statsmodels\\tsa\\base\\tsa_model.py:836: FutureWarning: No supported index is available. In the next version, calling this method in a model without a supported index will result in an exception.\n",
      "  return get_prediction_index(\n"
     ]
    }
   ],
   "source": [
    "#model ARIMA (Auto-Regressive Integrated Moving Average)\n",
    "from statsmodels.tsa.arima.model import ARIMA\n",
    "model = ARIMA(data['Revenue'], order=(5,1,0))  # (p,d,q)\n",
    "model_fit = model.fit()\n",
    "forecast = model_fit.forecast(steps=12)\n",
    "print(forecast)"
   ]
  },
  {
   "cell_type": "code",
   "execution_count": null,
   "id": "1774dcd6-0a2e-4c95-83a5-6f54a7c1f70e",
   "metadata": {},
   "outputs": [],
   "source": [
    "!pip install tensorflow"
   ]
  },
  {
   "cell_type": "code",
   "execution_count": 17,
   "id": "df43d218-4d92-4da5-a36f-9aae4432bfdb",
   "metadata": {},
   "outputs": [
    {
     "ename": "ModuleNotFoundError",
     "evalue": "No module named 'tensorflow'",
     "output_type": "error",
     "traceback": [
      "\u001b[1;31m---------------------------------------------------------------------------\u001b[0m",
      "\u001b[1;31mModuleNotFoundError\u001b[0m                       Traceback (most recent call last)",
      "Cell \u001b[1;32mIn[17], line 5\u001b[0m\n\u001b[0;32m      3\u001b[0m \u001b[38;5;28;01mimport\u001b[39;00m \u001b[38;5;21;01mnumpy\u001b[39;00m \u001b[38;5;28;01mas\u001b[39;00m \u001b[38;5;21;01mnp\u001b[39;00m\n\u001b[0;32m      4\u001b[0m \u001b[38;5;28;01mfrom\u001b[39;00m \u001b[38;5;21;01msklearn\u001b[39;00m\u001b[38;5;21;01m.\u001b[39;00m\u001b[38;5;21;01mpreprocessing\u001b[39;00m \u001b[38;5;28;01mimport\u001b[39;00m MinMaxScaler\n\u001b[1;32m----> 5\u001b[0m \u001b[38;5;28;01mfrom\u001b[39;00m \u001b[38;5;21;01mtensorflow\u001b[39;00m\u001b[38;5;21;01m.\u001b[39;00m\u001b[38;5;21;01mkeras\u001b[39;00m\u001b[38;5;21;01m.\u001b[39;00m\u001b[38;5;21;01mmodels\u001b[39;00m \u001b[38;5;28;01mimport\u001b[39;00m Sequential\n\u001b[0;32m      6\u001b[0m \u001b[38;5;28;01mfrom\u001b[39;00m \u001b[38;5;21;01mtensorflow\u001b[39;00m\u001b[38;5;21;01m.\u001b[39;00m\u001b[38;5;21;01mkeras\u001b[39;00m\u001b[38;5;21;01m.\u001b[39;00m\u001b[38;5;21;01mlayers\u001b[39;00m \u001b[38;5;28;01mimport\u001b[39;00m LSTM, Dense\n\u001b[0;32m      8\u001b[0m data_values \u001b[38;5;241m=\u001b[39m data[\u001b[38;5;124m'\u001b[39m\u001b[38;5;124mRevenue\u001b[39m\u001b[38;5;124m'\u001b[39m]\u001b[38;5;241m.\u001b[39mvalues\u001b[38;5;241m.\u001b[39mreshape(\u001b[38;5;241m-\u001b[39m\u001b[38;5;241m1\u001b[39m, \u001b[38;5;241m1\u001b[39m)\n",
      "\u001b[1;31mModuleNotFoundError\u001b[0m: No module named 'tensorflow'"
     ]
    }
   ],
   "source": [
    "#Forecasting dengan model LSTM(Long Short-Term Memory)\n",
    "#1. Preprocessing Data\n",
    "import numpy as np\n",
    "from sklearn.preprocessing import MinMaxScaler\n",
    "from tensorflow.keras.models import Sequential\n",
    "from tensorflow.keras.layers import LSTM, Dense\n",
    "\n",
    "data_values = data['Revenue'].values.reshape(-1, 1)\n",
    "scaler = MinMaxScaler(feature_range=(0, 1))\n",
    "scaled_data = scaler.fit_transform(data_values)\n",
    "train_size = int(len(scaled_data) * 0.8)\n",
    "train_data = scaled_data[:train_size]\n",
    "test_data = scaled_data[train_size:]\n",
    "\n",
    "def create_dataset(data, time_step=1):\n",
    "    X, y = [], []\n",
    "    for i in range(len(data) - time_step - 1):\n",
    "        X.append(data[i:(i + time_step), 0])\n",
    "        y.append(data[i + time_step, 0])\n",
    "    return np.array(X), np.array(y)\n",
    "\n",
    "time_step = 3\n",
    "X_train, y_train = create_dataset(train_data, time_step)\n",
    "X_test, y_test = create_dataset(test_data, time_step)\n",
    "\n",
    "X_train = X_train.reshape(X_train.shape[0], time_step, 1)\n",
    "X_test = X_test.reshape(X_test.shape[0], time_step, 1)"
   ]
  },
  {
   "cell_type": "code",
   "execution_count": null,
   "id": "0305d3e3-699f-414c-bc42-0cbc749926e6",
   "metadata": {},
   "outputs": [],
   "source": []
  }
 ],
 "metadata": {
  "kernelspec": {
   "display_name": "Python 3 (ipykernel)",
   "language": "python",
   "name": "python3"
  },
  "language_info": {
   "codemirror_mode": {
    "name": "ipython",
    "version": 3
   },
   "file_extension": ".py",
   "mimetype": "text/x-python",
   "name": "python",
   "nbconvert_exporter": "python",
   "pygments_lexer": "ipython3",
   "version": "3.12.4"
  }
 },
 "nbformat": 4,
 "nbformat_minor": 5
}
