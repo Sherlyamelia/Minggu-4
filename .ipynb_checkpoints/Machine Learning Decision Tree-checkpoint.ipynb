{
 "cells": [
  {
   "cell_type": "code",
   "execution_count": 1,
   "id": "029d86cd-fd8d-4132-abf5-3d75a779bdba",
   "metadata": {},
   "outputs": [
    {
     "name": "stdout",
     "output_type": "stream",
     "text": [
      "     Outlook Temperature Humidity    Wind Play\n",
      "0      Sunny         Hot     High    Weak   No\n",
      "1      Sunny         Hot     High  Strong   No\n",
      "2   Overcast         Hot     High    Weak  Yes\n",
      "3       Rain        Mild   Normal    Weak  Yes\n",
      "4       Rain        Cool   Normal  Strong  Yes\n",
      "5       Rain        Cool     High    Weak   No\n",
      "6   Overcast        Mild   Normal    Weak  Yes\n",
      "7      Sunny        Mild   Normal    Weak   No\n",
      "8      Sunny        Cool     High  Strong  Yes\n",
      "9       Rain        Mild   Normal  Strong  Yes\n",
      "10     Sunny        Cool   Normal    Weak  Yes\n",
      "11  Overcast        Mild     High  Strong  Yes\n",
      "12  Overcast         Hot   Normal  Strong  Yes\n",
      "13      Rain        Mild   Normal    Weak   No\n"
     ]
    }
   ],
   "source": [
    "#Macine Learning Metode Decision Tree\n",
    "import pandas as pd\n",
    "\n",
    "# Membuat dataset Play Tennis\n",
    "data = {\n",
    "    'Outlook': ['Sunny', 'Sunny', 'Overcast', 'Rain', 'Rain', 'Rain', 'Overcast', 'Sunny', 'Sunny', 'Rain', 'Sunny', 'Overcast', 'Overcast', 'Rain'],\n",
    "    'Temperature': ['Hot', 'Hot', 'Hot', 'Mild', 'Cool', 'Cool', 'Mild', 'Mild', 'Cool', 'Mild', 'Cool', 'Mild', 'Hot', 'Mild'],\n",
    "    'Humidity': ['High', 'High', 'High', 'Normal', 'Normal', 'High', 'Normal', 'Normal', 'High', 'Normal', 'Normal', 'High', 'Normal', 'Normal'],\n",
    "    'Wind': ['Weak', 'Strong', 'Weak', 'Weak', 'Strong', 'Weak', 'Weak', 'Weak', 'Strong', 'Strong', 'Weak', 'Strong', 'Strong', 'Weak'],\n",
    "    'Play': ['No', 'No', 'Yes', 'Yes', 'Yes', 'No', 'Yes', 'No', 'Yes', 'Yes', 'Yes', 'Yes', 'Yes', 'No']\n",
    "}\n",
    "\n",
    "df = pd.DataFrame(data)\n",
    "print(df)"
   ]
  },
  {
   "cell_type": "code",
   "execution_count": 3,
   "id": "b8986299-7750-4a50-be49-21ce3523b0c2",
   "metadata": {},
   "outputs": [
    {
     "name": "stdout",
     "output_type": "stream",
     "text": [
      "    Outlook  Temperature  Humidity  Wind  Play\n",
      "0         2            1         0     1     0\n",
      "1         2            1         0     0     0\n",
      "2         0            1         0     1     1\n",
      "3         1            2         1     1     1\n",
      "4         1            0         1     0     1\n",
      "5         1            0         0     1     0\n",
      "6         0            2         1     1     1\n",
      "7         2            2         1     1     0\n",
      "8         2            0         0     0     1\n",
      "9         1            2         1     0     1\n",
      "10        2            0         1     1     1\n",
      "11        0            2         0     0     1\n",
      "12        0            1         1     0     1\n",
      "13        1            2         1     1     0\n"
     ]
    }
   ],
   "source": [
    "from sklearn.preprocessing import LabelEncoder\n",
    "\n",
    "#MenginisialisasiLabelEncoder\n",
    "label_encoders = {}\n",
    "for column in df.columns:\n",
    "    le = LabelEncoder()\n",
    "    df[column] = le.fit_transform(df[column])\n",
    "    label_encoders[column] = le\n",
    "\n",
    "print(df)"
   ]
  },
  {
   "cell_type": "code",
   "execution_count": 5,
   "id": "10cdfb57-878c-4b3c-bfc0-95c2b6dc2118",
   "metadata": {},
   "outputs": [],
   "source": [
    "#Memisahkan fitur dengan label\n",
    "x = df.drop('Play', axis=1) #Fitur\n",
    "y = df['Play'] #Label"
   ]
  },
  {
   "cell_type": "code",
   "execution_count": 7,
   "id": "c0c78b50-5be5-4d05-851a-974ba85c32c7",
   "metadata": {},
   "outputs": [
    {
     "data": {
      "text/html": [
       "<div>\n",
       "<style scoped>\n",
       "    .dataframe tbody tr th:only-of-type {\n",
       "        vertical-align: middle;\n",
       "    }\n",
       "\n",
       "    .dataframe tbody tr th {\n",
       "        vertical-align: top;\n",
       "    }\n",
       "\n",
       "    .dataframe thead th {\n",
       "        text-align: right;\n",
       "    }\n",
       "</style>\n",
       "<table border=\"1\" class=\"dataframe\">\n",
       "  <thead>\n",
       "    <tr style=\"text-align: right;\">\n",
       "      <th></th>\n",
       "      <th>Outlook</th>\n",
       "      <th>Temperature</th>\n",
       "      <th>Humidity</th>\n",
       "      <th>Wind</th>\n",
       "    </tr>\n",
       "  </thead>\n",
       "  <tbody>\n",
       "    <tr>\n",
       "      <th>0</th>\n",
       "      <td>2</td>\n",
       "      <td>1</td>\n",
       "      <td>0</td>\n",
       "      <td>1</td>\n",
       "    </tr>\n",
       "    <tr>\n",
       "      <th>1</th>\n",
       "      <td>2</td>\n",
       "      <td>1</td>\n",
       "      <td>0</td>\n",
       "      <td>0</td>\n",
       "    </tr>\n",
       "    <tr>\n",
       "      <th>2</th>\n",
       "      <td>0</td>\n",
       "      <td>1</td>\n",
       "      <td>0</td>\n",
       "      <td>1</td>\n",
       "    </tr>\n",
       "    <tr>\n",
       "      <th>3</th>\n",
       "      <td>1</td>\n",
       "      <td>2</td>\n",
       "      <td>1</td>\n",
       "      <td>1</td>\n",
       "    </tr>\n",
       "    <tr>\n",
       "      <th>4</th>\n",
       "      <td>1</td>\n",
       "      <td>0</td>\n",
       "      <td>1</td>\n",
       "      <td>0</td>\n",
       "    </tr>\n",
       "    <tr>\n",
       "      <th>5</th>\n",
       "      <td>1</td>\n",
       "      <td>0</td>\n",
       "      <td>0</td>\n",
       "      <td>1</td>\n",
       "    </tr>\n",
       "    <tr>\n",
       "      <th>6</th>\n",
       "      <td>0</td>\n",
       "      <td>2</td>\n",
       "      <td>1</td>\n",
       "      <td>1</td>\n",
       "    </tr>\n",
       "    <tr>\n",
       "      <th>7</th>\n",
       "      <td>2</td>\n",
       "      <td>2</td>\n",
       "      <td>1</td>\n",
       "      <td>1</td>\n",
       "    </tr>\n",
       "    <tr>\n",
       "      <th>8</th>\n",
       "      <td>2</td>\n",
       "      <td>0</td>\n",
       "      <td>0</td>\n",
       "      <td>0</td>\n",
       "    </tr>\n",
       "    <tr>\n",
       "      <th>9</th>\n",
       "      <td>1</td>\n",
       "      <td>2</td>\n",
       "      <td>1</td>\n",
       "      <td>0</td>\n",
       "    </tr>\n",
       "    <tr>\n",
       "      <th>10</th>\n",
       "      <td>2</td>\n",
       "      <td>0</td>\n",
       "      <td>1</td>\n",
       "      <td>1</td>\n",
       "    </tr>\n",
       "    <tr>\n",
       "      <th>11</th>\n",
       "      <td>0</td>\n",
       "      <td>2</td>\n",
       "      <td>0</td>\n",
       "      <td>0</td>\n",
       "    </tr>\n",
       "    <tr>\n",
       "      <th>12</th>\n",
       "      <td>0</td>\n",
       "      <td>1</td>\n",
       "      <td>1</td>\n",
       "      <td>0</td>\n",
       "    </tr>\n",
       "    <tr>\n",
       "      <th>13</th>\n",
       "      <td>1</td>\n",
       "      <td>2</td>\n",
       "      <td>1</td>\n",
       "      <td>1</td>\n",
       "    </tr>\n",
       "  </tbody>\n",
       "</table>\n",
       "</div>"
      ],
      "text/plain": [
       "    Outlook  Temperature  Humidity  Wind\n",
       "0         2            1         0     1\n",
       "1         2            1         0     0\n",
       "2         0            1         0     1\n",
       "3         1            2         1     1\n",
       "4         1            0         1     0\n",
       "5         1            0         0     1\n",
       "6         0            2         1     1\n",
       "7         2            2         1     1\n",
       "8         2            0         0     0\n",
       "9         1            2         1     0\n",
       "10        2            0         1     1\n",
       "11        0            2         0     0\n",
       "12        0            1         1     0\n",
       "13        1            2         1     1"
      ]
     },
     "execution_count": 7,
     "metadata": {},
     "output_type": "execute_result"
    }
   ],
   "source": [
    "x"
   ]
  },
  {
   "cell_type": "code",
   "execution_count": 9,
   "id": "8cbcd739-8246-4ca8-bc32-76969fb41a19",
   "metadata": {},
   "outputs": [
    {
     "data": {
      "text/plain": [
       "0     0\n",
       "1     0\n",
       "2     1\n",
       "3     1\n",
       "4     1\n",
       "5     0\n",
       "6     1\n",
       "7     0\n",
       "8     1\n",
       "9     1\n",
       "10    1\n",
       "11    1\n",
       "12    1\n",
       "13    0\n",
       "Name: Play, dtype: int32"
      ]
     },
     "execution_count": 9,
     "metadata": {},
     "output_type": "execute_result"
    }
   ],
   "source": [
    "y"
   ]
  },
  {
   "cell_type": "code",
   "execution_count": null,
   "id": "12941f07-1912-4aa4-a548-e16b7e84afb8",
   "metadata": {},
   "outputs": [],
   "source": [
    "pip install sklearn"
   ]
  },
  {
   "cell_type": "code",
   "execution_count": 15,
   "id": "d8680b4f-818b-4663-98d9-1675982cc062",
   "metadata": {},
   "outputs": [
    {
     "name": "stdout",
     "output_type": "stream",
     "text": [
      "Akurasi Decision Tree: 0.75\n",
      "              precision    recall  f1-score   support\n",
      "\n",
      "           0       0.50      1.00      0.67         1\n",
      "           1       1.00      0.67      0.80         3\n",
      "\n",
      "    accuracy                           0.75         4\n",
      "   macro avg       0.75      0.83      0.73         4\n",
      "weighted avg       0.88      0.75      0.77         4\n",
      "\n"
     ]
    }
   ],
   "source": [
    "from sklearn.model_selection import train_test_split\n",
    "from sklearn.tree import DecisionTreeClassifier\n",
    "from sklearn.metrics import accuracy_score, classification_report\n",
    "\n",
    "#membagi data menjadi data latih dan uji\n",
    "X_train,X_test, y_train, y_test = train_test_split(x,y, test_size=0.25, random_state=42)\n",
    "\n",
    "#membangun model decision tree\n",
    "dt_model = DecisionTreeClassifier(random_state=42)\n",
    "dt_model.fit(X_train, y_train)\n",
    "\n",
    "#memprediksi label untuk data uji\n",
    "y_pred_dt = dt_model.predict(X_test)\n",
    "\n",
    "#evaluasi model\n",
    "print('Akurasi Decision Tree:', accuracy_score(y_test, y_pred_dt))\n",
    "print(classification_report(y_test, y_pred_dt))"
   ]
  },
  {
   "cell_type": "code",
   "execution_count": 17,
   "id": "ce700fc6-5046-4070-a91c-adfc354bb83e",
   "metadata": {},
   "outputs": [
    {
     "name": "stdout",
     "output_type": "stream",
     "text": [
      "|--- Outlook <= 0.50\n",
      "|   |--- class: 1\n",
      "|--- Outlook >  0.50\n",
      "|   |--- Temperature <= 0.50\n",
      "|   |   |--- Wind <= 0.50\n",
      "|   |   |   |--- class: 1\n",
      "|   |   |--- Wind >  0.50\n",
      "|   |   |   |--- Humidity <= 0.50\n",
      "|   |   |   |   |--- class: 0\n",
      "|   |   |   |--- Humidity >  0.50\n",
      "|   |   |   |   |--- class: 1\n",
      "|   |--- Temperature >  0.50\n",
      "|   |   |--- Outlook <= 1.50\n",
      "|   |   |   |--- class: 0\n",
      "|   |   |--- Outlook >  1.50\n",
      "|   |   |   |--- class: 0\n",
      "\n"
     ]
    }
   ],
   "source": [
    "from sklearn.tree import export_text\n",
    "\n",
    "#tampilan representasi teks dari decision tree\n",
    "tree_rules = export_text(dt_model, feature_names=list(x.columns))\n",
    "print(tree_rules)"
   ]
  },
  {
   "cell_type": "code",
   "execution_count": 23,
   "id": "4231eef1-2486-4d58-8b10-e118712b21b7",
   "metadata": {},
   "outputs": [
    {
     "name": "stdout",
     "output_type": "stream",
     "text": [
      "No\n",
      "Yes\n"
     ]
    },
    {
     "name": "stderr",
     "output_type": "stream",
     "text": [
      "C:\\Users\\asus\\anaconda3\\Lib\\site-packages\\sklearn\\base.py:493: UserWarning: X does not have valid feature names, but DecisionTreeClassifier was fitted with feature names\n",
      "  warnings.warn(\n",
      "C:\\Users\\asus\\anaconda3\\Lib\\site-packages\\sklearn\\base.py:493: UserWarning: X does not have valid feature names, but DecisionTreeClassifier was fitted with feature names\n",
      "  warnings.warn(\n"
     ]
    }
   ],
   "source": [
    "#Fungsi untuk memprediksi apakah akan bermain tenis berdasarkan fitur baru\n",
    "def predict_play_tennis(outlook, temperature, humidity, wind):\n",
    "    #encode input menggunakan LabelEncoder (teks menjadi angka)\n",
    "    outlook_encoded = label_encoders['Outlook'].transform([outlook])[0]\n",
    "    temperature_encoded = label_encoders['Temperature'].transform([temperature])[0]\n",
    "    humidity_encoded = label_encoders['Humidity'].transform([humidity])[0]\n",
    "    wind_encoded = label_encoders['Wind'].transform([wind])[0]\n",
    "    #buat array input (angka-angka hasil encoder di tata dulu :)\n",
    "    input_data = [[outlook_encoded, temperature_encoded, humidity_encoded, wind_encoded]]\n",
    "    #Lakukan prediksi ke model dt_model yang sudah belajar dari data training\n",
    "    prediction = dt_model.predict(input_data)\n",
    "    return 'Yes' if prediction[0] == 1 else 'No' #jika prediksi =1 maka yes, jika 0= no\n",
    "#Contoh prediksi\n",
    "print(predict_play_tennis('Sunny', 'Cool', 'High', 'Weak')) #output bisa yes atau no\n",
    "print(predict_play_tennis('Overcast', 'Mild', 'Normal', 'Weak')) #output bisa yes atau no"
   ]
  },
  {
   "cell_type": "code",
   "execution_count": null,
   "id": "91837f70-7fd9-432d-ab6a-bef3d23a2050",
   "metadata": {},
   "outputs": [],
   "source": []
  }
 ],
 "metadata": {
  "kernelspec": {
   "display_name": "Python 3 (ipykernel)",
   "language": "python",
   "name": "python3"
  },
  "language_info": {
   "codemirror_mode": {
    "name": "ipython",
    "version": 3
   },
   "file_extension": ".py",
   "mimetype": "text/x-python",
   "name": "python",
   "nbconvert_exporter": "python",
   "pygments_lexer": "ipython3",
   "version": "3.12.4"
  }
 },
 "nbformat": 4,
 "nbformat_minor": 5
}
